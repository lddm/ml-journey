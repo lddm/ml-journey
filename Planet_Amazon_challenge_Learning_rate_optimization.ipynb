{
  "nbformat": 4,
  "nbformat_minor": 0,
  "metadata": {
    "accelerator": "GPU",
    "colab": {
      "name": "Planet-Amazon challenge-Learning rate optimization.ipynb",
      "provenance": [],
      "collapsed_sections": [
        "autVzv_Il-E9",
        "Ur96H1pdxUU1"
      ],
      "toc_visible": true,
      "include_colab_link": true
    },
    "kernelspec": {
      "display_name": "Python 3",
      "language": "python",
      "name": "python3"
    },
    "pycharm": {
      "stem_cell": {
        "cell_type": "raw",
        "metadata": {
          "collapsed": false
        },
        "source": []
      }
    }
  },
  "cells": [
    {
      "cell_type": "markdown",
      "metadata": {
        "id": "view-in-github",
        "colab_type": "text"
      },
      "source": [
        "<a href=\"https://colab.research.google.com/github/lddm/ml-journey/blob/main/Planet_Amazon_challenge_Learning_rate_optimization.ipynb\" target=\"_parent\"><img src=\"https://colab.research.google.com/assets/colab-badge.svg\" alt=\"Open In Colab\"/></a>"
      ]
    },
    {
      "cell_type": "markdown",
      "metadata": {
        "id": "AENXq97iaCjC"
      },
      "source": [
        "## Introduction\n",
        "This notebook implements a solution for the Kaggle Planet: [Understanding the Amazon from Space](https://www.kaggle.com/c/planet-understanding-the-amazon-from-space) challenge by finetunning a ResNet50 previously trained in ImageNet. \n",
        "\n",
        "Sections and code are ordered in a way that should be easy to follow, if you have doubts or comments please do not hesitate in reaching me by opening an issue in my ml-journey repository: https://github.com/lddm/ml-journey  \n",
        "\n",
        "I use this notebook for both training and applying the classifier for the challenge. The latest state of the notebook in github may not have all cells' outputs. If you have doubts about some output you can always try running the notebook end-to-end on your own or ask me, I would be happy to help."
      ]
    },
    {
      "cell_type": "markdown",
      "metadata": {
        "id": "5PuzQV0zurbW"
      },
      "source": [
        "# Environment setup"
      ]
    },
    {
      "cell_type": "code",
      "metadata": {
        "id": "Oohq-EzU3X_6"
      },
      "source": [
        "# License: BSD\n",
        "# Author: Sasank Chilamkurthy\n",
        "\n",
        "%matplotlib inline\n",
        "\n",
        "# Imports\n",
        "import os\n",
        "import time\n",
        "import copy\n",
        "import cv2\n",
        "import torch\n",
        "import torchvision\n",
        "import math\n",
        "import pickle\n",
        "\n",
        "import pandas as pd\n",
        "import torch.nn as nn\n",
        "import numpy as np\n",
        "import matplotlib.pyplot as plt\n",
        "import torch.optim as optim\n",
        "\n",
        "from PIL import Image\n",
        "from tqdm import tqdm\n",
        "from google.colab import drive, files\n",
        "from sklearn import metrics\n",
        "\n",
        "from sklearn.preprocessing import MultiLabelBinarizer\n",
        "from torch.optim import lr_scheduler\n",
        "from torchvision import datasets, models, transforms\n",
        "from torch.utils.data.dataset import Dataset\n",
        "from torch.utils.data import DataLoader\n",
        "\n",
        "# Constants\n",
        "TRAIN_DIR = 'train/train-jpg'\n",
        "TEST_DIR = 'test/test-jpg'\n",
        "ROOT_PATH = '/content/gdrive/MyDrive/planet_amazon'\n",
        "MODEL_PATH = os.path.join(ROOT_PATH, 'planet_challenge_model_one_cycle_lr.tar')\n",
        "TRAINING_BATCH_SIZE = 32\n",
        "TRAINING_EPOCHS = 5\n",
        "SUBMISSION_FILENAME = 'submission_one_cycle_lr.csv'\n",
        "\n",
        "plt.ion()   # interactive mode\n",
        "device = torch.device(\"cuda:0\" if torch.cuda.is_available() else \"cpu\")"
      ],
      "execution_count": 2,
      "outputs": []
    },
    {
      "cell_type": "code",
      "metadata": {
        "colab": {
          "base_uri": "https://localhost:8080/"
        },
        "id": "Rho1txJ5GFMX",
        "outputId": "686465f0-b370-47e8-af37-0d95b50953e5"
      },
      "source": [
        "drive.mount('/content/gdrive')\n",
        "os.chdir(ROOT_PATH)"
      ],
      "execution_count": 3,
      "outputs": [
        {
          "output_type": "stream",
          "text": [
            "Mounted at /content/gdrive\n"
          ],
          "name": "stdout"
        }
      ]
    },
    {
      "cell_type": "markdown",
      "metadata": {
        "id": "Dd1GMPa6HI3l"
      },
      "source": [
        "### Uncompress data\n",
        "Only need to run once to extract the compressed archives into folders suitable for training and classification."
      ]
    },
    {
      "cell_type": "code",
      "metadata": {
        "id": "GDiwd_k1EUvN"
      },
      "source": [
        "# root_path = '/content/gdrive/MyDrive/planet_amazon'\n",
        "# os.getcwd()\n",
        "# os.chdir(root_path)  #change dir\n",
        "# !mkdir train  #create a directory named train/\n",
        "# !mkdir test  #create a directory named test/\n",
        "# !tar -xvf  'train-jpg.tar' -C 'train'\n",
        "# !tar -xvf  'test-jpg-all-images.tar.gz' -C 'test'"
      ],
      "execution_count": 3,
      "outputs": []
    },
    {
      "cell_type": "markdown",
      "metadata": {
        "id": "autVzv_Il-E9"
      },
      "source": [
        "# Auxiliary functions"
      ]
    },
    {
      "cell_type": "code",
      "metadata": {
        "id": "-vPUakAO9iDc"
      },
      "source": [
        "def get_items(df):\n",
        "    return df\n",
        "    # Grab subset of items\n",
        "    # return df.sample(n=64*30, random_state=891237)\n",
        "\n",
        "def get_x(df_row):\n",
        "    img_name = df_row['image_name']\n",
        "    img_path = os.path.join(TRAIN_DIR, f'{img_name}.jpg')\n",
        "    return img_path\n",
        "\n",
        "def get_y(df_row):\n",
        "    return df_row['tags'].split(' ')\n",
        "\n",
        "def imshow(inp, fig_size=4, title=None):\n",
        "    \"\"\"Imshow for Tensor.\"\"\"\n",
        "    inp = inp.numpy().transpose((1, 2, 0))\n",
        "    mean = np.array([0.485, 0.456, 0.406])\n",
        "    std = np.array([0.229, 0.224, 0.225])\n",
        "    inp = std * inp + mean\n",
        "    inp = np.clip(inp, 0, 1)\n",
        "\n",
        "    fig, ax = plt.subplots(figsize=(fig_size, fig_size))\n",
        "    ax.imshow(inp)\n",
        "\n",
        "    if title is not None:\n",
        "        plt.title(title)\n",
        "    plt.pause(0.001)  # pause a bit so that plots are updated\n",
        "\n",
        "\n",
        "def initialize_resnet(num_classes, use_pretrained=True):\n",
        "    model = models.resnet50(pretrained=use_pretrained)\n",
        "    # Adjust last fully connected layer to number of classes in the PlanetAmazonChallenge\n",
        "    num_ftrs = model.fc.in_features\n",
        "    model.fc = nn.Linear(num_ftrs, num_classes)\n",
        "    return model\n",
        "\n",
        "# Based on https://www.kaggle.com/igormq/f-beta-score-for-pytorch\n",
        "def f2_score(y_true, y_pred, threshold=0.5):\n",
        "    return fbeta_score(y_true, y_pred, 2, threshold)\n",
        "\n",
        "\n",
        "def fbeta_score(y_true, y_pred, beta, threshold, eps=1e-9):\n",
        "    beta2 = beta**2\n",
        "\n",
        "    y_pred = torch.ge(y_pred.float(), threshold).float()\n",
        "    y_true = y_true.float()\n",
        "\n",
        "    true_positive = (y_pred * y_true).sum(dim=1)\n",
        "    precision = true_positive.div(y_pred.sum(dim=1).add(eps))\n",
        "    recall = true_positive.div(y_true.sum(dim=1).add(eps))\n",
        "\n",
        "    return torch.mean(\n",
        "        (precision*recall).\n",
        "        div(precision.mul(beta2) + recall + eps).\n",
        "        mul(1 + beta2))\n",
        "\n",
        "# Based on https://gist.github.com/andrewjong/6b02ff237533b3b2c554701fb53d5c4d\n",
        "# Allows obtaining image paths when iterating by batches using the DataLoader\n",
        "# Code is modified to only return the file name, without path and without \n",
        "# extension, thus generating the output format expected by the Kaggle \n",
        "# competition\n",
        "class ImageFolderWithPaths(datasets.ImageFolder):\n",
        "    \"\"\"Custom dataset that includes image file paths. Extends\n",
        "    torchvision.datasets.ImageFolder\n",
        "    \"\"\"\n",
        "\n",
        "    # override the __getitem__ method. this is the method that dataloader calls\n",
        "    def __getitem__(self, index):\n",
        "        # this is what ImageFolder normally returns \n",
        "        original_tuple = super(ImageFolderWithPaths, self).__getitem__(index)\n",
        "        # the image file path\n",
        "        img_path = self.imgs[index][0]\n",
        "        img_name = os.path.splitext(os.path.basename(img_path))[0]\n",
        "        # make a new tuple that includes original and the path\n",
        "        tuple_with_path = (original_tuple + (img_name,))\n",
        "        return tuple_with_path"
      ],
      "execution_count": 8,
      "outputs": []
    },
    {
      "cell_type": "markdown",
      "metadata": {
        "id": "Md-UGXawSUle"
      },
      "source": [
        "# One-cycle learning rate policy\n",
        "The One-Cycle Policy for finding a optimal learning rate has shown good results in the Kaggle competition. The underlying idea behind this strategy is that too low learning rates requires many updates for reaching the minimum loss point and make the difficult to pass saddle points while training. On the other hand, too high learning rates can lead to divergence as the gradient descent fails to move towards a minimum in the loss surface. This is shown clearly in the following two images.  \n",
        "![image.png](data:image/png;base64,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)\n",
        "\n",
        "![image.png](data:image/png;base64,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)\n",
        "\n",
        "This One-Cycle-Policy is very clearly explained in the following article: https://medium.com/dsnet/the-1-cycle-policy-an-experiment-that-vanished-the-struggle-in-training-neural-nets-184417de23b9  \n",
        "\n",
        "Links to the papers in which this article is based can be found below:\n",
        "* http://arxiv.org/abs/1506.01186\n",
        "* https://arxiv.org/abs/1708.07120\n",
        "* https://arxiv.org/abs/1803.09820\n",
        "\n",
        "Code used here is adapted from code in the following repo: https://github.com/nachiket273/One_Cycle_Policy"
      ]
    },
    {
      "cell_type": "markdown",
      "metadata": {
        "id": "Ur96H1pdxUU1"
      },
      "source": [
        "## Auxiliary functions"
      ]
    },
    {
      "cell_type": "code",
      "metadata": {
        "id": "ZBzBe20LSaF8"
      },
      "source": [
        "class CLR():\n",
        "    def __init__(self, train_dataloader, base_lr=1e-5, max_lr=100):\n",
        "        self.base_lr = base_lr # The lower boundary for learning rate (initial lr)\n",
        "        self.max_lr = max_lr # The upper boundary for learning rate\n",
        "        self.bn = len(train_dataloader) - 1 # Total number of iterations used for this test run (lr is calculated based on this)\n",
        "        ratio = self.max_lr/self.base_lr # n\n",
        "        self.mult = ratio ** (1/self.bn) # q = (max_lr/init_lr)^(1/n)\n",
        "        self.best_loss = 1e9 # our assumed best loss\n",
        "        self.iteration = 0 # current iteration, initialized to 0\n",
        "        self.lrs = []\n",
        "        self.losses = []\n",
        "        \n",
        "    def calc_lr(self, loss):\n",
        "        self.iteration +=1\n",
        "        if math.isnan(loss) or loss > 4 * self.best_loss: # stopping criteria (if current loss > 4*best loss) \n",
        "            return -1\n",
        "        if loss < self.best_loss and self.iteration > 1: # if current_loss < best_loss, replace best_loss with current_loss\n",
        "            self.best_loss = loss\n",
        "        mult = self.mult ** self.iteration # q = q^i\n",
        "        lr = self.base_lr * mult # lr_i = init_lr * q\n",
        "        self.lrs.append(lr) # append the learing rate to lrs\n",
        "        self.losses.append(loss) # append the loss to losses\n",
        "        return lr\n",
        "        \n",
        "    def plot(self, start=10, end=-5): # plot lrs vs losses\n",
        "        plt.xlabel(\"Learning Rate\")\n",
        "        plt.ylabel(\"Losses\")\n",
        "        plt.plot(self.lrs[start:end], self.losses[start:end])\n",
        "        plt.xscale('log') # learning rates are in log scale\n",
        "      \n",
        "    def save(self, path):\n",
        "      pickle.dump(self, open(path, \"wb\"))\n",
        "\n",
        "    @classmethod\n",
        "    def load(cls, path):\n",
        "      return pickle.load(open(path, \"rb\"))"
      ],
      "execution_count": 15,
      "outputs": []
    },
    {
      "cell_type": "markdown",
      "metadata": {
        "id": "gZ02fU_UFoin"
      },
      "source": [
        "## LR-range test"
      ]
    },
    {
      "cell_type": "code",
      "metadata": {
        "id": "DxN4FTyjZcWL"
      },
      "source": [
        "def find_lr(clr, model, dataloader, loss_func, opt, clr_save_path=None):\n",
        "    running_loss = 0. \n",
        "    avg_beta = 0.98 # useful in calculating smoothed loss\n",
        "    threshold = 0.2\n",
        "    model.train() # set the model in training mode\n",
        "\n",
        "    with tqdm(dataloader, unit=\"mini-batch\") as training_batch:\n",
        "      for i, (inputs, labels) in enumerate(training_batch):\n",
        "        # move the inputs and labels to gpu if available\n",
        "        inputs = inputs.to(device)\n",
        "        labels = labels.to(device)\n",
        "        \n",
        "        outputs = model(inputs) # predict output\n",
        "        preds = outputs > threshold\n",
        "        loss = loss_func(outputs, labels) # calculate loss \n",
        "        \n",
        "        # calculate the smoothed loss \n",
        "        running_loss = avg_beta * running_loss + (1-avg_beta) *loss # the running loss\n",
        "        smoothed_loss = running_loss / (1 - avg_beta**(i+1)) # smoothening effect of the loss \n",
        "        \n",
        "        lr = clr.calc_lr(smoothed_loss) # calculate learning rate using CLR\n",
        "        if lr == -1 : # the stopping criteria\n",
        "            break\n",
        "        for pg in opt.param_groups: # update learning rate\n",
        "            pg['lr'] = lr   \n",
        "\n",
        "        # compute gradient and do parameter updates\n",
        "        opt.zero_grad()\n",
        "        loss.backward()\n",
        "        opt.step()\n",
        "\n",
        "        if clr_save_path:\n",
        "          clr.save(clr_save_path)"
      ],
      "execution_count": 6,
      "outputs": []
    },
    {
      "cell_type": "code",
      "metadata": {
        "colab": {
          "base_uri": "https://localhost:8080/",
          "height": 316
        },
        "id": "GoIAfTBhdCXK",
        "outputId": "651e676c-0167-4020-c43b-14c515362590"
      },
      "source": [
        "model = initialize_resnet(len(train_dataset.mlb.classes_), use_pretrained=True)\n",
        "model = model.to(device)\n",
        "\n",
        "loss_func = nn.BCEWithLogitsLoss() # loss function\n",
        "opt = optim.SGD(model.parameters(), lr=1e-4, momentum=0.95) # optimizer\n",
        "clr = CLR(train_loader, max_lr=1) # CLR instance\n",
        "clr_pickle_path = 'clr_test.bin'\n",
        "\n",
        "find_lr(clr, model, train_loader, loss_func, opt, clr_pickle_path)"
      ],
      "execution_count": 7,
      "outputs": [
        {
          "output_type": "error",
          "ename": "NameError",
          "evalue": "ignored",
          "traceback": [
            "\u001b[0;31m---------------------------------------------------------------------------\u001b[0m",
            "\u001b[0;31mNameError\u001b[0m                                 Traceback (most recent call last)",
            "\u001b[0;32m<ipython-input-7-6d929f9fa15a>\u001b[0m in \u001b[0;36m<module>\u001b[0;34m()\u001b[0m\n\u001b[0;32m----> 1\u001b[0;31m \u001b[0mmodel\u001b[0m \u001b[0;34m=\u001b[0m \u001b[0minitialize_resnet\u001b[0m\u001b[0;34m(\u001b[0m\u001b[0mlen\u001b[0m\u001b[0;34m(\u001b[0m\u001b[0mtrain_dataset\u001b[0m\u001b[0;34m.\u001b[0m\u001b[0mmlb\u001b[0m\u001b[0;34m.\u001b[0m\u001b[0mclasses_\u001b[0m\u001b[0;34m)\u001b[0m\u001b[0;34m,\u001b[0m \u001b[0muse_pretrained\u001b[0m\u001b[0;34m=\u001b[0m\u001b[0;32mTrue\u001b[0m\u001b[0;34m)\u001b[0m\u001b[0;34m\u001b[0m\u001b[0;34m\u001b[0m\u001b[0m\n\u001b[0m\u001b[1;32m      2\u001b[0m \u001b[0mmodel\u001b[0m \u001b[0;34m=\u001b[0m \u001b[0mmodel\u001b[0m\u001b[0;34m.\u001b[0m\u001b[0mto\u001b[0m\u001b[0;34m(\u001b[0m\u001b[0mdevice\u001b[0m\u001b[0;34m)\u001b[0m\u001b[0;34m\u001b[0m\u001b[0;34m\u001b[0m\u001b[0m\n\u001b[1;32m      3\u001b[0m \u001b[0;34m\u001b[0m\u001b[0m\n\u001b[1;32m      4\u001b[0m \u001b[0mloss_func\u001b[0m \u001b[0;34m=\u001b[0m \u001b[0mnn\u001b[0m\u001b[0;34m.\u001b[0m\u001b[0mBCEWithLogitsLoss\u001b[0m\u001b[0;34m(\u001b[0m\u001b[0;34m)\u001b[0m \u001b[0;31m# loss function\u001b[0m\u001b[0;34m\u001b[0m\u001b[0;34m\u001b[0m\u001b[0m\n\u001b[1;32m      5\u001b[0m \u001b[0mopt\u001b[0m \u001b[0;34m=\u001b[0m \u001b[0moptim\u001b[0m\u001b[0;34m.\u001b[0m\u001b[0mSGD\u001b[0m\u001b[0;34m(\u001b[0m\u001b[0mmodel\u001b[0m\u001b[0;34m.\u001b[0m\u001b[0mparameters\u001b[0m\u001b[0;34m(\u001b[0m\u001b[0;34m)\u001b[0m\u001b[0;34m,\u001b[0m \u001b[0mlr\u001b[0m\u001b[0;34m=\u001b[0m\u001b[0;36m1e-4\u001b[0m\u001b[0;34m,\u001b[0m \u001b[0mmomentum\u001b[0m\u001b[0;34m=\u001b[0m\u001b[0;36m0.95\u001b[0m\u001b[0;34m)\u001b[0m \u001b[0;31m# optimizer\u001b[0m\u001b[0;34m\u001b[0m\u001b[0;34m\u001b[0m\u001b[0m\n",
            "\u001b[0;31mNameError\u001b[0m: name 'train_dataset' is not defined"
          ]
        }
      ]
    },
    {
      "cell_type": "code",
      "metadata": {
        "id": "8Qp8khot_JlD"
      },
      "source": [
        "clr.plot(0, -1)"
      ],
      "execution_count": null,
      "outputs": []
    },
    {
      "cell_type": "code",
      "metadata": {
        "id": "UOrx4yPLBoEJ"
      },
      "source": [
        "os.listdir()\n",
        "clr_test = CLR.load(clr_pickle_path)"
      ],
      "execution_count": null,
      "outputs": []
    },
    {
      "cell_type": "markdown",
      "metadata": {
        "id": "Uk5xmHYcXT5g"
      },
      "source": [
        "## Training based on the One-cycle policy"
      ]
    },
    {
      "cell_type": "code",
      "metadata": {
        "id": "If1dUkInXfX-"
      },
      "source": [
        "class OneCycle():\n",
        "    def __init__(self, nb, max_lr, momentum_vals=(0.95, 0.85), prcnt= 10 , div=10):\n",
        "        self.nb = nb # total number of iterations including all epochs\n",
        "        self.div = div # the division factor used to get lower boundary of learning rate\n",
        "        self.step_len =  int(self.nb * (1- prcnt/100)/2)\n",
        "        self.high_lr = max_lr # the optimum learning rate, found from LR range test\n",
        "        self.low_mom = momentum_vals[1]\n",
        "        self.high_mom = momentum_vals[0]\n",
        "        self.prcnt = prcnt # percentage of cycle length,we annihilate learning rate below the lower learnig rate (default is 10)\n",
        "        self.iteration = 0\n",
        "        self.lrs = []\n",
        "        self.moms = []\n",
        "        \n",
        "    def calc(self): # calculates learning rate and momentum for the batch\n",
        "        self.iteration += 1\n",
        "        lr = self.calc_lr()\n",
        "        mom = self.calc_mom()\n",
        "        return (lr, mom)\n",
        "        \n",
        "    def calc_lr(self):\n",
        "        if self.iteration==self.nb: # exactly at `d`\n",
        "            self.iteration = 0\n",
        "            self.lrs.append(self.high_lr/self.div)\n",
        "            return self.high_lr/self.div\n",
        "        if self.iteration > 2 * self.step_len: # case c-d\n",
        "            ratio = (self.iteration - 2 * self.step_len) / (self.nb - 2 * self.step_len)\n",
        "            lr = self.high_lr * (1 - ratio * (1-(1/self.div)))/self.div\n",
        "        elif self.iteration > self.step_len: # case b-c\n",
        "            ratio = 1- (self.iteration -self.step_len)/self.step_len\n",
        "            lr = self.high_lr * (1 + ratio * (self.div - 1)) / self.div\n",
        "        else : # case a-b\n",
        "            ratio = self.iteration/self.step_len\n",
        "            lr = self.high_lr * (1 + ratio * (self.div - 1)) / self.div\n",
        "        self.lrs.append(lr)\n",
        "        return lr\n",
        "    \n",
        "    def calc_mom(self):\n",
        "        if self.iteration==self.nb: # exactly at `d`\n",
        "            self.iteration = 0\n",
        "            self.moms.append(self.high_mom)\n",
        "            return self.high_mom\n",
        "        if self.iteration > 2 * self.step_len: # case c-d\n",
        "            mom = self.high_mom\n",
        "        elif self.iteration > self.step_len: # case b-c \n",
        "            ratio = (self.iteration -self.step_len)/self.step_len\n",
        "            mom = self.low_mom + ratio * (self.high_mom - self.low_mom)\n",
        "        else : # case a-b\n",
        "            ratio = self.iteration/self.step_len\n",
        "            mom = self.high_mom - ratio * (self.high_mom - self.low_mom)\n",
        "        self.moms.append(mom)\n",
        "        return mom\n",
        "\n",
        "\n",
        "def update_lr(optimizer, lr):\n",
        "    for g in optimizer.param_groups:\n",
        "        g['lr'] = lr\n",
        "\n",
        "def update_mom(optimizer, mom):\n",
        "    for g in optimizer.param_groups:\n",
        "        g['momentum'] = mom"
      ],
      "execution_count": 17,
      "outputs": []
    },
    {
      "cell_type": "markdown",
      "metadata": {
        "id": "dFZ3cE0fjjn5"
      },
      "source": [
        "# Train the network"
      ]
    },
    {
      "cell_type": "markdown",
      "metadata": {
        "collapsed": false,
        "id": "ckDkdqeHg4rF"
      },
      "source": [
        "### Test access to training data"
      ]
    },
    {
      "cell_type": "code",
      "metadata": {
        "colab": {
          "base_uri": "https://localhost:8080/"
        },
        "id": "o66-AH6Cg4rF",
        "outputId": "d83df11f-5b96-4a6b-bf4e-93075e085832"
      },
      "source": [
        "train_df = pd.read_csv('train_v2.csv')\n",
        "train_img_path = get_x(train_df.loc[0])\n",
        "print(train_img_path)\n",
        "tags = get_y(train_df.loc[0])\n",
        "print(tags)\n",
        "\n",
        "train_img = cv2.imread(train_img_path)\n",
        "train_img.shape"
      ],
      "execution_count": 10,
      "outputs": [
        {
          "output_type": "stream",
          "text": [
            "train/train-jpg/train_0.jpg\n",
            "['haze', 'primary']\n"
          ],
          "name": "stdout"
        },
        {
          "output_type": "execute_result",
          "data": {
            "text/plain": [
              "(256, 256, 3)"
            ]
          },
          "metadata": {
            "tags": []
          },
          "execution_count": 10
        }
      ]
    },
    {
      "cell_type": "markdown",
      "metadata": {
        "collapsed": false,
        "id": "7wvxE9K1g4rG"
      },
      "source": [
        "### Load training data "
      ]
    },
    {
      "cell_type": "markdown",
      "metadata": {
        "id": "7ywJG9yeZ2kU"
      },
      "source": [
        "### Handle dataset particular structure"
      ]
    },
    {
      "cell_type": "markdown",
      "metadata": {
        "id": "7hWGgYVU9uoF"
      },
      "source": [
        "The [torchvision.datasets](https://pytorch.org/vision/0.8/datasets.html#torchvision-datasets) class expects a specific structure for the data and their corresponding labels, e.g: ![Screenshot from 2021-02-27 16-32-20.png](data:image/png;base64,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)\n",
        "\n",
        "This is not very convenient for handling how data is provided in the Kaggle _Understanding the Amazon from Space_ challenge. This is easily fixable by implementing a custom sub-class of the torch Dataset class. Code below is based on https://www.kaggle.com/mratsim/starting-kit-for-pytorch-deep-learning#Loading-the-data---first-part---DataSet  \n",
        "\n",
        "The implemented `KaggleAmazonDataset` makes use of [sklearn.preprocessing.MultiLabelBinarizer](https://scikit-learn.org/stable/modules/generated/sklearn.preprocessing.MultiLabelBinarizer.html#sklearn-preprocessing-multilabelbinarizer) to encode the categorical labels in a convenient numerical format for the training."
      ]
    },
    {
      "cell_type": "code",
      "metadata": {
        "id": "7b61FspM-_Ov"
      },
      "source": [
        "class KaggleAmazonDataset(Dataset):\n",
        "    \"\"\"Dataset wrapping images and target labels for Kaggle - Planet Amazon from Space competition.\n",
        "\n",
        "    Arguments:\n",
        "        A CSV file path\n",
        "        Path to image folder\n",
        "        Extension of images\n",
        "        Transform (optional) object containing transformations to apply on imagery.\n",
        "    \"\"\"\n",
        "\n",
        "    def __init__(self, csv_path, img_path, img_ext, transform=None, number_samples=None):\n",
        "    \n",
        "        self.tmp_df = pd.read_csv(csv_path)\n",
        "        \n",
        "        self.mlb = MultiLabelBinarizer()\n",
        "        self.img_path = img_path\n",
        "        self.img_ext = img_ext\n",
        "        self.transform = transform\n",
        "        \n",
        "        self._check_corrupt_files()\n",
        "\n",
        "        image_names = self.tmp_df['image_name']\n",
        "        tags = self.tmp_df['tags']\n",
        "        if number_samples:\n",
        "          image_names = image_names[:number_samples]\n",
        "          tags = tags[:number_samples]\n",
        "          self.dataset_size = number_samples\n",
        "        else:\n",
        "          self.dataset_size = len(image_names)\n",
        "\n",
        "        self.X_train = image_names\n",
        "        # self.y_train is a sparse-matrix of size num_samples x num_classes where an element [i,j] equals 1 \n",
        "        # iff the sample with index 'i' correspond to class 'j'\n",
        "        self.y_train = self.mlb.fit_transform(tags.str.split()).astype(np.float32)\n",
        "\n",
        "    def __getitem__(self, index):\n",
        "        img = Image.open(os.path.join(self.img_path, self.X_train[index] + \n",
        "                                      self.img_ext))\n",
        "        img = img.convert('RGB')\n",
        "        if self.transform is not None:\n",
        "          img = self.transform(img)\n",
        "\n",
        "        label = torch.from_numpy(self.y_train[index])\n",
        "        return img, label\n",
        "    \n",
        "    def _check_corrupt_files(self):\n",
        "        # check that all images listed in the train.csv are available on the training folder\n",
        "        assert self.tmp_df['image_name'].apply(lambda x: os.path.isfile(os.path.join(\n",
        "                self.img_path, x + self.img_ext))).all(), \\\n",
        "\"Some images referenced in the CSV file were not found\"\n",
        "        \n",
        "        # some files available in the folder are corrupted causing an PIL.UnidentifiedImageError\n",
        "        for image_name in self.tmp_df['image_name']:\n",
        "          file_size = os.stat(os.path.join(\n",
        "              self.img_path, image_name + self.img_ext)).st_size\n",
        "          if file_size == 0:\n",
        "            raise(OSError('File {} is corrupt'.format(image_name)))\n",
        "        \n",
        "    \n",
        "    def decode_binary_label(self, array):\n",
        "      return self.mlb.inverse_transform(array)\n",
        "\n",
        "    def __len__(self):\n",
        "        return len(self.X_train.index)"
      ],
      "execution_count": 11,
      "outputs": []
    },
    {
      "cell_type": "code",
      "metadata": {
        "colab": {
          "base_uri": "https://localhost:8080/"
        },
        "id": "_wAZz8rDg4rW",
        "outputId": "c2f133df-a5e6-471b-bbd0-ef2d99135837"
      },
      "source": [
        "print('Train dataset size: ', len([name for name in os.listdir(TRAIN_DIR) if os.path.isfile(os.path.join(TRAIN_DIR, name))]))\n",
        "# the parameters used here are based on https://pytorch.org/tutorials/beginner/transfer_learning_tutorial.html\n",
        "data_transforms = transforms.Compose([transforms.CenterCrop(224),\n",
        "                                      transforms.ToTensor(),\n",
        "                                      # Normalization mean and std. dev. \n",
        "                                      # factors are taken from ImageNet\n",
        "                                      transforms.Normalize(\n",
        "                                          [0.485, 0.456, 0.406],\n",
        "                                          [0.229, 0.224, 0.225])])\n",
        "\n",
        "train_dataset = KaggleAmazonDataset('train_v2.csv', TRAIN_DIR, '.jpg', \n",
        "                                    data_transforms)\n",
        "\n",
        "train_loader = DataLoader(train_dataset,\n",
        "                          batch_size=TRAINING_BATCH_SIZE,\n",
        "                          shuffle=True,\n",
        "                          num_workers=1, # 1 for CUDA\n",
        "                          pin_memory=True # CUDA only\n",
        "                         )\n",
        "\n",
        "dataset_sizes = {'train': train_dataset.dataset_size}"
      ],
      "execution_count": 12,
      "outputs": [
        {
          "output_type": "stream",
          "text": [
            "Train dataset size:  40479\n"
          ],
          "name": "stdout"
        }
      ]
    },
    {
      "cell_type": "markdown",
      "metadata": {
        "collapsed": false,
        "id": "JbAhTMDdg4rW"
      },
      "source": [
        "### Test train_loader and classes decoding"
      ]
    },
    {
      "cell_type": "code",
      "metadata": {
        "id": "D_iTuaHHJKpN"
      },
      "source": [
        "# Get a batch of training data\n",
        "inputs, classes = next(iter(train_loader))\n",
        "\n",
        "# Make a grid from batch\n",
        "out = torchvision.utils.make_grid(inputs, nrow=4)\n",
        "\n",
        "imshow(out, fig_size=20)\n",
        "\n",
        "train_dataset.decode_binary_label(classes)"
      ],
      "execution_count": null,
      "outputs": []
    },
    {
      "cell_type": "markdown",
      "metadata": {
        "id": "FETH6Ok56ad-"
      },
      "source": [
        "### Finetunning the network"
      ]
    },
    {
      "cell_type": "code",
      "metadata": {
        "id": "Eq_MUszb6NHB"
      },
      "source": [
        "def train_model(model, criterion, optimizer, scheduler, one_cycle=None, \n",
        "                last_epoch=0, num_epochs=25, save_model=False, threshold=0, \n",
        "                epoch_loss_evolution=[], epoch_acc_evolution=[]):\n",
        "    since = time.time()\n",
        "    best_model_wts = copy.deepcopy(model.state_dict())\n",
        "    if epoch_acc_evolution:\n",
        "      best_acc = max(epoch_acc_evolution)\n",
        "    else:\n",
        "      best_acc = 0.0\n",
        "\n",
        "    for epoch in range(last_epoch, num_epochs):\n",
        "        print('Epoch {}/{}'.format(epoch, num_epochs - 1))\n",
        "        print('-' * 10)\n",
        "\n",
        "        # Each epoch has a training and validation phase\n",
        "        for phase in ['train']:\n",
        "            if phase == 'train':\n",
        "                model.train()  # Set model to training mode\n",
        "            else:\n",
        "                model.eval()   # Set model to evaluate mode\n",
        "\n",
        "            running_loss = 0.0\n",
        "            running_corrects = 0\n",
        "\n",
        "            # Iterate over data.\n",
        "            for inputs, labels in train_loader:\n",
        "                inputs = inputs.to(device)\n",
        "                labels = labels.to(device)\n",
        "\n",
        "                if one_cycle:\n",
        "                  lr, mom = one_cycle.calc()\n",
        "                  update_lr(optimizer, lr)\n",
        "                  update_mom(optimizer, mom)\n",
        "\n",
        "                # zero the parameter gradients\n",
        "                optimizer.zero_grad()\n",
        "\n",
        "                # forward\n",
        "                # track history if only in train\n",
        "                with torch.set_grad_enabled(phase == 'train'):\n",
        "                    outputs = model(inputs)\n",
        "                    preds = outputs > threshold\n",
        "                    loss = criterion(outputs, labels)\n",
        "\n",
        "                    # backward + optimize only if in training phase\n",
        "                    if phase == 'train':\n",
        "                        loss.backward()\n",
        "                        optimizer.step()\n",
        "\n",
        "                # statistics\n",
        "                running_loss += loss.item() * inputs.size(0)\n",
        "                running_corrects += torch.sum(preds == labels.data)\n",
        "\n",
        "                # print('f2beta score: ', fbeta_score(labels.data, preds, 2, 0.2))\n",
        "            if phase == 'train' and one_cycle is None:\n",
        "                scheduler.step()\n",
        "\n",
        "            epoch_loss_evolution.append(running_loss / dataset_sizes[phase])\n",
        "            \n",
        "            epoch_acc = running_corrects.double() / dataset_sizes[phase]\n",
        "            epoch_acc_evolution.append(epoch_acc)\n",
        "\n",
        "            print('{} Loss: {:.4f} Acc: {:.4f}'.format(\n",
        "                phase, epoch_loss_evolution[-1], epoch_acc))\n",
        "\n",
        "            # deep copy the model\n",
        "            if epoch_acc > best_acc:\n",
        "                best_acc = epoch_acc\n",
        "                best_model_wts = copy.deepcopy(model.state_dict())\n",
        "                if save_model:\n",
        "                  torch.save({\n",
        "                      'epoch': epoch,\n",
        "                      'model_state_dict': model.state_dict(),\n",
        "                      'optimizer_state_dict': optimizer.state_dict(),\n",
        "                      'loss_evolution': epoch_loss_evolution,\n",
        "                      'accuracy_evolution': epoch_acc_evolution\n",
        "                      }, MODEL_PATH)\n",
        "\n",
        "        print()\n",
        "\n",
        "    time_elapsed = time.time() - since\n",
        "    print('Training complete in {:.0f}m {:.0f}s'.format(\n",
        "        time_elapsed // 60, time_elapsed % 60))\n",
        "    print('Best train Acc: {:4f}'.format(best_acc))\n",
        "\n",
        "    # load best model weights\n",
        "    model.load_state_dict(best_model_wts)\n",
        "    return model"
      ],
      "execution_count": 13,
      "outputs": []
    },
    {
      "cell_type": "code",
      "metadata": {
        "id": "N_QAzlx56NHF"
      },
      "source": [
        "model = initialize_resnet(len(train_dataset.mlb.classes_), use_pretrained=True)\n",
        "model = model.to(device)\n",
        "\n",
        "# criterion = nn.CrossEntropyLoss()\n",
        "# Loss selected for multi-label classification problem based on https://discuss.pytorch.org/t/multi-label-classification-in-pytorch/905/45\n",
        "criterion = nn.BCEWithLogitsLoss()\n",
        "\n",
        "# Observe that all parameters are being optimized\n",
        "# optimizer = torch.optim.Adam(model.parameters(), lr=1e-3, weight_decay=5e-7)\n",
        "optimizer = optim.SGD(model.parameters(), lr=1e-3, momentum=0.9)\n",
        "\n",
        "# Decay LR by a factor of 0.1 every 8 epochs\n",
        "exp_lr_scheduler = lr_scheduler.StepLR(optimizer, step_size=8, gamma=0.1)\n",
        "\n",
        "# Initialize OneCycle object\n",
        "number_iterations = TRAINING_EPOCHS * TRAINING_BATCH_SIZE\n",
        "one_cycle = OneCycle(number_iterations, max_lr=1e-1)"
      ],
      "execution_count": 18,
      "outputs": []
    },
    {
      "cell_type": "code",
      "metadata": {
        "id": "Ao9TtWOl2LfR"
      },
      "source": [
        "load_model = False\n",
        "if load_model:\n",
        "  checkpoint = torch.load(MODEL_PATH)\n",
        "\n",
        "  model.load_state_dict(checkpoint['model_state_dict'])\n",
        "  optimizer.load_state_dict(checkpoint['optimizer_state_dict'])\n",
        "  last_epoch = checkpoint['epoch']\n",
        "  epoch_loss_evolution = checkpoint['loss_evolution']\n",
        "  epoch_acc_evolution = checkpoint['accuracy_evolution']\n",
        "else:\n",
        "  epoch_loss_evolution = []\n",
        "  epoch_acc_evolution = []\n",
        "  last_epoch = 0"
      ],
      "execution_count": 19,
      "outputs": []
    },
    {
      "cell_type": "code",
      "metadata": {
        "id": "9QgvuSpY-R9C",
        "colab": {
          "base_uri": "https://localhost:8080/",
          "height": 485
        },
        "outputId": "f38fbee0-b8a0-43db-9e70-b17a0e8541a8"
      },
      "source": [
        "plt.plot(epoch_loss_evolution)\n",
        "plt.title('Training loss')\n",
        "plt.xlabel('Epoch')\n",
        "plt.ylabel('Loss')\n",
        "plt.grid()\n",
        "\n",
        "print('Last loss: {}'.format(epoch_loss_evolution[-1]))"
      ],
      "execution_count": 20,
      "outputs": [
        {
          "output_type": "error",
          "ename": "IndexError",
          "evalue": "ignored",
          "traceback": [
            "\u001b[0;31m---------------------------------------------------------------------------\u001b[0m",
            "\u001b[0;31mIndexError\u001b[0m                                Traceback (most recent call last)",
            "\u001b[0;32m<ipython-input-20-120e0a9a6c12>\u001b[0m in \u001b[0;36m<module>\u001b[0;34m()\u001b[0m\n\u001b[1;32m      5\u001b[0m \u001b[0mplt\u001b[0m\u001b[0;34m.\u001b[0m\u001b[0mgrid\u001b[0m\u001b[0;34m(\u001b[0m\u001b[0;34m)\u001b[0m\u001b[0;34m\u001b[0m\u001b[0;34m\u001b[0m\u001b[0m\n\u001b[1;32m      6\u001b[0m \u001b[0;34m\u001b[0m\u001b[0m\n\u001b[0;32m----> 7\u001b[0;31m \u001b[0mprint\u001b[0m\u001b[0;34m(\u001b[0m\u001b[0;34m'Last loss: {}'\u001b[0m\u001b[0;34m.\u001b[0m\u001b[0mformat\u001b[0m\u001b[0;34m(\u001b[0m\u001b[0mepoch_loss_evolution\u001b[0m\u001b[0;34m[\u001b[0m\u001b[0;34m-\u001b[0m\u001b[0;36m1\u001b[0m\u001b[0;34m]\u001b[0m\u001b[0;34m)\u001b[0m\u001b[0;34m)\u001b[0m\u001b[0;34m\u001b[0m\u001b[0;34m\u001b[0m\u001b[0m\n\u001b[0m",
            "\u001b[0;31mIndexError\u001b[0m: list index out of range"
          ]
        },
        {
          "output_type": "display_data",
          "data": {
            "image/png": "[encoded data removed]",
            "text/plain": [
              "<Figure size 432x288 with 1 Axes>"
            ]
          },
          "metadata": {
            "tags": [],
            "needs_background": "light"
          }
        }
      ]
    },
    {
      "cell_type": "code",
      "metadata": {
        "id": "y1SZzsA27a7k",
        "colab": {
          "base_uri": "https://localhost:8080/"
        },
        "outputId": "b82ee26b-32bd-4451-c912-4d868f0109bd"
      },
      "source": [
        "model = train_model(model, criterion, optimizer, exp_lr_scheduler, one_cycle,\n",
        "                    last_epoch=last_epoch, num_epochs=TRAINING_EPOCHS, save_model=True, \n",
        "                    threshold=0.2, epoch_loss_evolution=epoch_loss_evolution, \n",
        "                    epoch_acc_evolution = epoch_acc_evolution)"
      ],
      "execution_count": 21,
      "outputs": [
        {
          "output_type": "stream",
          "text": [
            "Epoch 0/4\n",
            "----------\n",
            "train Loss: 0.1236 Acc: 16.2182\n",
            "\n",
            "Epoch 1/4\n",
            "----------\n",
            "train Loss: 0.0988 Acc: 16.3601\n",
            "\n",
            "Epoch 2/4\n",
            "----------\n",
            "train Loss: 0.0911 Acc: 16.4067\n",
            "\n",
            "Epoch 3/4\n",
            "----------\n",
            "train Loss: 0.0848 Acc: 16.4409\n",
            "\n",
            "Epoch 4/4\n",
            "----------\n",
            "train Loss: 0.0783 Acc: 16.4858\n",
            "\n",
            "Training complete in 189m 17s\n",
            "Best train Acc: 16.485832\n"
          ],
          "name": "stdout"
        }
      ]
    },
    {
      "cell_type": "markdown",
      "metadata": {
        "id": "8C4jN8P0AKhu"
      },
      "source": [
        "# Classify test images"
      ]
    },
    {
      "cell_type": "markdown",
      "metadata": {
        "id": "RA1qikcakkjH"
      },
      "source": [
        "## Load model"
      ]
    },
    {
      "cell_type": "code",
      "metadata": {
        "id": "WpkYvtRbFXp4"
      },
      "source": [
        "model = initialize_resnet(len(train_dataset.mlb.classes_))\n",
        "model = model.to(device)\n",
        "\n",
        "optimizer = torch.optim.Adam(model.parameters())\n",
        "\n",
        "checkpoint = torch.load(MODEL_PATH)\n",
        "model.load_state_dict(checkpoint['model_state_dict'])\n",
        "optimizer.load_state_dict(checkpoint['optimizer_state_dict'])\n",
        "last_epoch = checkpoint['epoch']\n",
        "epoch_loss_evolution = checkpoint['loss_evolution']"
      ],
      "execution_count": 22,
      "outputs": []
    },
    {
      "cell_type": "markdown",
      "metadata": {
        "id": "vj4bNrUvkv7P"
      },
      "source": [
        "## Load and classify by batch"
      ]
    },
    {
      "cell_type": "code",
      "metadata": {
        "id": "naJrhd_iF4Ol",
        "colab": {
          "base_uri": "https://localhost:8080/"
        },
        "outputId": "7780cfe8-358d-4008-bab0-fec8d7b81a6a"
      },
      "source": [
        "print('Test dataset size: ', len([name for name in os.listdir(TEST_DIR) if os.path.isfile(os.path.join(TEST_DIR, name))]))\n",
        "test_transforms = transforms.Compose([\n",
        "        transforms.Resize(256),\n",
        "        transforms.CenterCrop(224),\n",
        "        transforms.ToTensor(),\n",
        "        transforms.Normalize([0.485, 0.456, 0.406], [0.229, 0.224, 0.225])\n",
        "    ])\n",
        "\n",
        "dataset = {'test' : ImageFolderWithPaths('test', test_transforms)}\n",
        "dataloader = {'test': torch.utils.data.DataLoader(dataset['test'], batch_size = 250, shuffle=False, num_workers=2)}"
      ],
      "execution_count": 24,
      "outputs": [
        {
          "output_type": "stream",
          "text": [
            "Test dataset size:  61191\n"
          ],
          "name": "stdout"
        }
      ]
    },
    {
      "cell_type": "code",
      "metadata": {
        "id": "LJCggXb9tMwt",
        "colab": {
          "base_uri": "https://localhost:8080/"
        },
        "outputId": "d395c0d3-c956-4c9a-bb1a-2fafeaba7d90"
      },
      "source": [
        "print(len(dataloader['test'].dataset)) \n"
      ],
      "execution_count": 25,
      "outputs": [
        {
          "output_type": "stream",
          "text": [
            "61191\n"
          ],
          "name": "stdout"
        }
      ]
    },
    {
      "cell_type": "code",
      "metadata": {
        "id": "8derxAyA6NHE"
      },
      "source": [
        "def classify(model, dataloader, multi_label_binarizer, show_images=False, threshold=0):\n",
        "    was_training = model.training\n",
        "    model.eval()\n",
        "    results_df = pd.DataFrame(columns=['image_name','tags'])\n",
        "    with tqdm(dataloader, unit=\"batch\") as classification_batch:\n",
        "      for inputs, _, img_names in classification_batch:\n",
        "        with torch.no_grad():\n",
        "          inputs = inputs.to(device)\n",
        "          outputs = model(inputs)\n",
        "          preds = outputs > threshold\n",
        "          # recover categorical labels from binary predictions\n",
        "          labels = multi_label_binarizer.inverse_transform(preds.cpu())\n",
        "\n",
        "          #labels is a list of size classification batch where each element \n",
        "          # is a tuple with the labels corresponding to each image. The \n",
        "          # submission expects the labels of each image to be outputted as a \n",
        "          # space separated list\n",
        "          output_labels = [' '.join(labels) for labels in labels]\n",
        "          \n",
        "          results_df = results_df.append(pd.DataFrame({\n",
        "              'image_name': img_names,\n",
        "              'tags': output_labels\n",
        "          }))\n",
        "\n",
        "          if show_images:\n",
        "            fig = plt.figure(figsize=(10, 10))\n",
        "            print('Labels: ', labels)\n",
        "            imshow(inputs.squeeze(0).cpu().data)\n",
        "    \n",
        "    model.train(mode=was_training)\n",
        "    return results_df"
      ],
      "execution_count": 27,
      "outputs": []
    },
    {
      "cell_type": "code",
      "metadata": {
        "id": "hcM6duuRk4sv",
        "colab": {
          "base_uri": "https://localhost:8080/"
        },
        "outputId": "73505f43-6d45-47e0-94c3-33437f0259db"
      },
      "source": [
        "results_df = classify(model, dataloader['test'], train_dataset.mlb, show_images=False, threshold=0.2)"
      ],
      "execution_count": 28,
      "outputs": [
        {
          "output_type": "stream",
          "text": [
            "100%|██████████| 245/245 [1:27:56<00:00, 21.53s/batch]\n"
          ],
          "name": "stderr"
        }
      ]
    },
    {
      "cell_type": "code",
      "metadata": {
        "id": "B-ym62DaZwQS"
      },
      "source": [
        "results_df.to_csv(SUBMISSION_FILENAME, index=False)"
      ],
      "execution_count": 31,
      "outputs": []
    },
    {
      "cell_type": "markdown",
      "metadata": {
        "id": "sp2cRlpiTjRI"
      },
      "source": [
        "# Submitting results to Kaggle competition\n",
        "* Instructions on how to use Kaggle API from Google Colab environment can be found [here](https://colab.research.google.com/github/corrieann/kaggle/blob/master/kaggle_api_in_colab.ipynb)\n",
        "* Details on the format of the output that should be submitted as well as the Kaggle API command that should be used can be found [here](https://www.kaggle.com/c/planet-understanding-the-amazon-from-space/submit)\n"
      ]
    },
    {
      "cell_type": "code",
      "metadata": {
        "id": "QawwT_TaKVrO"
      },
      "source": [
        "results_df = pd.read_csv(SUBMISSION_FILENAME)"
      ],
      "execution_count": 32,
      "outputs": []
    },
    {
      "cell_type": "code",
      "metadata": {
        "id": "n-IyaqU-Wji3",
        "colab": {
          "base_uri": "https://localhost:8080/",
          "height": 407
        },
        "outputId": "7910ade2-49f6-406c-fa7f-56611fe8c7cf"
      },
      "source": [
        "results_df"
      ],
      "execution_count": 33,
      "outputs": [
        {
          "output_type": "execute_result",
          "data": {
            "text/html": [
              "<div>\n",
              "<style scoped>\n",
              "    .dataframe tbody tr th:only-of-type {\n",
              "        vertical-align: middle;\n",
              "    }\n",
              "\n",
              "    .dataframe tbody tr th {\n",
              "        vertical-align: top;\n",
              "    }\n",
              "\n",
              "    .dataframe thead th {\n",
              "        text-align: right;\n",
              "    }\n",
              "</style>\n",
              "<table border=\"1\" class=\"dataframe\">\n",
              "  <thead>\n",
              "    <tr style=\"text-align: right;\">\n",
              "      <th></th>\n",
              "      <th>image_name</th>\n",
              "      <th>tags</th>\n",
              "    </tr>\n",
              "  </thead>\n",
              "  <tbody>\n",
              "    <tr>\n",
              "      <th>0</th>\n",
              "      <td>file_0</td>\n",
              "      <td>clear primary</td>\n",
              "    </tr>\n",
              "    <tr>\n",
              "      <th>1</th>\n",
              "      <td>file_1</td>\n",
              "      <td>agriculture clear habitation primary road</td>\n",
              "    </tr>\n",
              "    <tr>\n",
              "      <th>2</th>\n",
              "      <td>file_10</td>\n",
              "      <td>haze primary road water</td>\n",
              "    </tr>\n",
              "    <tr>\n",
              "      <th>3</th>\n",
              "      <td>file_100</td>\n",
              "      <td>clear primary water</td>\n",
              "    </tr>\n",
              "    <tr>\n",
              "      <th>4</th>\n",
              "      <td>file_1000</td>\n",
              "      <td>clear primary</td>\n",
              "    </tr>\n",
              "    <tr>\n",
              "      <th>...</th>\n",
              "      <td>...</td>\n",
              "      <td>...</td>\n",
              "    </tr>\n",
              "    <tr>\n",
              "      <th>61186</th>\n",
              "      <td>test_9995</td>\n",
              "      <td>clear primary</td>\n",
              "    </tr>\n",
              "    <tr>\n",
              "      <th>61187</th>\n",
              "      <td>test_9996</td>\n",
              "      <td>partly_cloudy primary</td>\n",
              "    </tr>\n",
              "    <tr>\n",
              "      <th>61188</th>\n",
              "      <td>test_9997</td>\n",
              "      <td>agriculture cultivation partly_cloudy primary</td>\n",
              "    </tr>\n",
              "    <tr>\n",
              "      <th>61189</th>\n",
              "      <td>test_9998</td>\n",
              "      <td>clear primary</td>\n",
              "    </tr>\n",
              "    <tr>\n",
              "      <th>61190</th>\n",
              "      <td>test_9999</td>\n",
              "      <td>haze primary</td>\n",
              "    </tr>\n",
              "  </tbody>\n",
              "</table>\n",
              "<p>61191 rows × 2 columns</p>\n",
              "</div>"
            ],
            "text/plain": [
              "      image_name                                           tags\n",
              "0         file_0                                  clear primary\n",
              "1         file_1      agriculture clear habitation primary road\n",
              "2        file_10                        haze primary road water\n",
              "3       file_100                            clear primary water\n",
              "4      file_1000                                  clear primary\n",
              "...          ...                                            ...\n",
              "61186  test_9995                                  clear primary\n",
              "61187  test_9996                          partly_cloudy primary\n",
              "61188  test_9997  agriculture cultivation partly_cloudy primary\n",
              "61189  test_9998                                  clear primary\n",
              "61190  test_9999                                   haze primary\n",
              "\n",
              "[61191 rows x 2 columns]"
            ]
          },
          "metadata": {
            "tags": []
          },
          "execution_count": 33
        }
      ]
    },
    {
      "cell_type": "code",
      "metadata": {
        "id": "OppyMnCuWjzJ",
        "colab": {
          "base_uri": "https://localhost:8080/"
        },
        "outputId": "f3572698-0100-4a28-ac9b-4d23458fc507"
      },
      "source": [
        "!pip install kaggle"
      ],
      "execution_count": 34,
      "outputs": [
        {
          "output_type": "stream",
          "text": [
            "Requirement already satisfied: kaggle in /usr/local/lib/python3.7/dist-packages (1.5.12)\n",
            "Requirement already satisfied: python-dateutil in /usr/local/lib/python3.7/dist-packages (from kaggle) (2.8.1)\n",
            "Requirement already satisfied: tqdm in /usr/local/lib/python3.7/dist-packages (from kaggle) (4.41.1)\n",
            "Requirement already satisfied: certifi in /usr/local/lib/python3.7/dist-packages (from kaggle) (2020.12.5)\n",
            "Requirement already satisfied: six>=1.10 in /usr/local/lib/python3.7/dist-packages (from kaggle) (1.15.0)\n",
            "Requirement already satisfied: requests in /usr/local/lib/python3.7/dist-packages (from kaggle) (2.23.0)\n",
            "Requirement already satisfied: urllib3 in /usr/local/lib/python3.7/dist-packages (from kaggle) (1.24.3)\n",
            "Requirement already satisfied: python-slugify in /usr/local/lib/python3.7/dist-packages (from kaggle) (4.0.1)\n",
            "Requirement already satisfied: idna<3,>=2.5 in /usr/local/lib/python3.7/dist-packages (from requests->kaggle) (2.10)\n",
            "Requirement already satisfied: chardet<4,>=3.0.2 in /usr/local/lib/python3.7/dist-packages (from requests->kaggle) (3.0.4)\n",
            "Requirement already satisfied: text-unidecode>=1.3 in /usr/local/lib/python3.7/dist-packages (from python-slugify->kaggle) (1.3)\n"
          ],
          "name": "stdout"
        }
      ]
    },
    {
      "cell_type": "code",
      "metadata": {
        "id": "0HtGf0HEXEa5",
        "colab": {
          "resources": {
            "http://localhost:8080/nbextensions/google.colab/files.js": {
              "data": "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",
              "ok": true,
              "headers": [
                [
                  "content-type",
                  "application/javascript"
                ]
              ],
              "status": 200,
              "status_text": ""
            }
          },
          "base_uri": "https://localhost:8080/",
          "height": 91
        },
        "outputId": "7a2e01a8-e4c6-4e07-9d40-bfb052a3cb85"
      },
      "source": [
        "\n",
        "\n",
        "uploaded = files.upload()\n",
        "\n",
        "for fn in uploaded.keys():\n",
        "  print('User uploaded file \"{name}\" with length {length} bytes'.format(\n",
        "      name=fn, length=len(uploaded[fn])))\n",
        "  \n",
        "# Then move kaggle.json into the folder where the API expects to find it.\n",
        "!mkdir -p ~/.kaggle/ && mv kaggle.json ~/.kaggle/ && chmod 600 ~/.kaggle/kaggle.json"
      ],
      "execution_count": 5,
      "outputs": [
        {
          "output_type": "display_data",
          "data": {
            "text/html": [
              "\n",
              "     <input type=\"file\" id=\"files-53495df1-221f-486e-bbee-e57b95968122\" name=\"files[]\" multiple disabled\n",
              "        style=\"border:none\" />\n",
              "     <output id=\"result-53495df1-221f-486e-bbee-e57b95968122\">\n",
              "      Upload widget is only available when the cell has been executed in the\n",
              "      current browser session. Please rerun this cell to enable.\n",
              "      </output>\n",
              "      <script src=\"/nbextensions/google.colab/files.js\"></script> "
            ],
            "text/plain": [
              "<IPython.core.display.HTML object>"
            ]
          },
          "metadata": {
            "tags": []
          }
        },
        {
          "output_type": "stream",
          "text": [
            "Saving kaggle.json to kaggle.json\n",
            "User uploaded file \"kaggle.json\" with length 69 bytes\n"
          ],
          "name": "stdout"
        }
      ]
    },
    {
      "cell_type": "code",
      "metadata": {
        "id": "21Sb9hfZUxtB",
        "colab": {
          "base_uri": "https://localhost:8080/"
        },
        "outputId": "b57d1b39-1e9f-4121-90f8-84b5038747a6"
      },
      "source": [
        "print(SUBMISSION_FILENAME)\n",
        "! kaggle competitions submit -c planet-understanding-the-amazon-from-space -f submission_one_cycle_lr.csv -m \"Second iteration results using transfer learning with a ResNet50 trained in ImageNet and One Cycle policy\"\n"
      ],
      "execution_count": 8,
      "outputs": [
        {
          "output_type": "stream",
          "text": [
            "submission_one_cycle_lr.csv\n",
            "Warning: Looks like you're using an outdated API Version, please consider updating (server 1.5.12 / client 1.5.4)\n",
            "100% 1.94M/1.94M [00:00<00:00, 2.35MB/s]\n",
            "Successfully submitted to Planet: Understanding the Amazon from Space"
          ],
          "name": "stdout"
        }
      ]
    }
  ]
}