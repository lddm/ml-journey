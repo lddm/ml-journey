{
  "nbformat": 4,
  "nbformat_minor": 0,
  "metadata": {
    "accelerator": "GPU",
    "colab": {
      "name": "Planet-Amazon challenge.ipynb",
      "provenance": [],
      "collapsed_sections": [
        "autVzv_Il-E9",
        "7ywJG9yeZ2kU",
        "JbAhTMDdg4rW"
      ],
      "toc_visible": true,
      "include_colab_link": true
    },
    "kernelspec": {
      "display_name": "Python 3",
      "language": "python",
      "name": "python3"
    },
    "pycharm": {
      "stem_cell": {
        "cell_type": "raw",
        "metadata": {
          "collapsed": false
        },
        "source": []
      }
    },
    "widgets": {
      "application/vnd.jupyter.widget-state+json": {
        "cbb61b8eae614caca4b452022232a7c1": {
          "model_module": "@jupyter-widgets/controls",
          "model_name": "HBoxModel",
          "state": {
            "_view_name": "HBoxView",
            "_dom_classes": [],
            "_model_name": "HBoxModel",
            "_view_module": "@jupyter-widgets/controls",
            "_model_module_version": "1.5.0",
            "_view_count": null,
            "_view_module_version": "1.5.0",
            "box_style": "",
            "layout": "IPY_MODEL_bb916ce403f04d8cb47442aa9ff5ea92",
            "_model_module": "@jupyter-widgets/controls",
            "children": [
              "IPY_MODEL_2536995be11a4b289d936406136db359",
              "IPY_MODEL_ccc743a3fd284ef5bb2ce02d635132be"
            ]
          }
        },
        "bb916ce403f04d8cb47442aa9ff5ea92": {
          "model_module": "@jupyter-widgets/base",
          "model_name": "LayoutModel",
          "state": {
            "_view_name": "LayoutView",
            "grid_template_rows": null,
            "right": null,
            "justify_content": null,
            "_view_module": "@jupyter-widgets/base",
            "overflow": null,
            "_model_module_version": "1.2.0",
            "_view_count": null,
            "flex_flow": null,
            "width": null,
            "min_width": null,
            "border": null,
            "align_items": null,
            "bottom": null,
            "_model_module": "@jupyter-widgets/base",
            "top": null,
            "grid_column": null,
            "overflow_y": null,
            "overflow_x": null,
            "grid_auto_flow": null,
            "grid_area": null,
            "grid_template_columns": null,
            "flex": null,
            "_model_name": "LayoutModel",
            "justify_items": null,
            "grid_row": null,
            "max_height": null,
            "align_content": null,
            "visibility": null,
            "align_self": null,
            "height": null,
            "min_height": null,
            "padding": null,
            "grid_auto_rows": null,
            "grid_gap": null,
            "max_width": null,
            "order": null,
            "_view_module_version": "1.2.0",
            "grid_template_areas": null,
            "object_position": null,
            "object_fit": null,
            "grid_auto_columns": null,
            "margin": null,
            "display": null,
            "left": null
          }
        },
        "2536995be11a4b289d936406136db359": {
          "model_module": "@jupyter-widgets/controls",
          "model_name": "FloatProgressModel",
          "state": {
            "_view_name": "ProgressView",
            "style": "IPY_MODEL_78be5718b4924ae7b4c3420613f9de67",
            "_dom_classes": [],
            "description": "100%",
            "_model_name": "FloatProgressModel",
            "bar_style": "success",
            "max": 102502400,
            "_view_module": "@jupyter-widgets/controls",
            "_model_module_version": "1.5.0",
            "value": 102502400,
            "_view_count": null,
            "_view_module_version": "1.5.0",
            "orientation": "horizontal",
            "min": 0,
            "description_tooltip": null,
            "_model_module": "@jupyter-widgets/controls",
            "layout": "IPY_MODEL_d219383802c64bf5bc7b7851b705286f"
          }
        },
        "ccc743a3fd284ef5bb2ce02d635132be": {
          "model_module": "@jupyter-widgets/controls",
          "model_name": "HTMLModel",
          "state": {
            "_view_name": "HTMLView",
            "style": "IPY_MODEL_52a776c46e794a62bce565d4601c1418",
            "_dom_classes": [],
            "description": "",
            "_model_name": "HTMLModel",
            "placeholder": "​",
            "_view_module": "@jupyter-widgets/controls",
            "_model_module_version": "1.5.0",
            "value": " 97.8M/97.8M [00:06&lt;00:00, 16.9MB/s]",
            "_view_count": null,
            "_view_module_version": "1.5.0",
            "description_tooltip": null,
            "_model_module": "@jupyter-widgets/controls",
            "layout": "IPY_MODEL_113216cfc60b41b092aaf0ccebbc904f"
          }
        },
        "78be5718b4924ae7b4c3420613f9de67": {
          "model_module": "@jupyter-widgets/controls",
          "model_name": "ProgressStyleModel",
          "state": {
            "_view_name": "StyleView",
            "_model_name": "ProgressStyleModel",
            "description_width": "initial",
            "_view_module": "@jupyter-widgets/base",
            "_model_module_version": "1.5.0",
            "_view_count": null,
            "_view_module_version": "1.2.0",
            "bar_color": null,
            "_model_module": "@jupyter-widgets/controls"
          }
        },
        "d219383802c64bf5bc7b7851b705286f": {
          "model_module": "@jupyter-widgets/base",
          "model_name": "LayoutModel",
          "state": {
            "_view_name": "LayoutView",
            "grid_template_rows": null,
            "right": null,
            "justify_content": null,
            "_view_module": "@jupyter-widgets/base",
            "overflow": null,
            "_model_module_version": "1.2.0",
            "_view_count": null,
            "flex_flow": null,
            "width": null,
            "min_width": null,
            "border": null,
            "align_items": null,
            "bottom": null,
            "_model_module": "@jupyter-widgets/base",
            "top": null,
            "grid_column": null,
            "overflow_y": null,
            "overflow_x": null,
            "grid_auto_flow": null,
            "grid_area": null,
            "grid_template_columns": null,
            "flex": null,
            "_model_name": "LayoutModel",
            "justify_items": null,
            "grid_row": null,
            "max_height": null,
            "align_content": null,
            "visibility": null,
            "align_self": null,
            "height": null,
            "min_height": null,
            "padding": null,
            "grid_auto_rows": null,
            "grid_gap": null,
            "max_width": null,
            "order": null,
            "_view_module_version": "1.2.0",
            "grid_template_areas": null,
            "object_position": null,
            "object_fit": null,
            "grid_auto_columns": null,
            "margin": null,
            "display": null,
            "left": null
          }
        },
        "52a776c46e794a62bce565d4601c1418": {
          "model_module": "@jupyter-widgets/controls",
          "model_name": "DescriptionStyleModel",
          "state": {
            "_view_name": "StyleView",
            "_model_name": "DescriptionStyleModel",
            "description_width": "",
            "_view_module": "@jupyter-widgets/base",
            "_model_module_version": "1.5.0",
            "_view_count": null,
            "_view_module_version": "1.2.0",
            "_model_module": "@jupyter-widgets/controls"
          }
        },
        "113216cfc60b41b092aaf0ccebbc904f": {
          "model_module": "@jupyter-widgets/base",
          "model_name": "LayoutModel",
          "state": {
            "_view_name": "LayoutView",
            "grid_template_rows": null,
            "right": null,
            "justify_content": null,
            "_view_module": "@jupyter-widgets/base",
            "overflow": null,
            "_model_module_version": "1.2.0",
            "_view_count": null,
            "flex_flow": null,
            "width": null,
            "min_width": null,
            "border": null,
            "align_items": null,
            "bottom": null,
            "_model_module": "@jupyter-widgets/base",
            "top": null,
            "grid_column": null,
            "overflow_y": null,
            "overflow_x": null,
            "grid_auto_flow": null,
            "grid_area": null,
            "grid_template_columns": null,
            "flex": null,
            "_model_name": "LayoutModel",
            "justify_items": null,
            "grid_row": null,
            "max_height": null,
            "align_content": null,
            "visibility": null,
            "align_self": null,
            "height": null,
            "min_height": null,
            "padding": null,
            "grid_auto_rows": null,
            "grid_gap": null,
            "max_width": null,
            "order": null,
            "_view_module_version": "1.2.0",
            "grid_template_areas": null,
            "object_position": null,
            "object_fit": null,
            "grid_auto_columns": null,
            "margin": null,
            "display": null,
            "left": null
          }
        }
      }
    }
  },
  "cells": [
    {
      "cell_type": "markdown",
      "metadata": {
        "id": "view-in-github",
        "colab_type": "text"
      },
      "source": [
        "<a href=\"https://colab.research.google.com/github/lddm/ml-journey/blob/main/Planet_Amazon_challenge.ipynb\" target=\"_parent\"><img src=\"https://colab.research.google.com/assets/colab-badge.svg\" alt=\"Open In Colab\"/></a>"
      ]
    },
    {
      "cell_type": "markdown",
      "metadata": {
        "id": "AENXq97iaCjC"
      },
      "source": [
        "## Introduction\n",
        "This notebook implements a solution for the Kaggle Planet: [Understanding the Amazon from Space](https://www.kaggle.com/c/planet-understanding-the-amazon-from-space) challenge by finetunning a ResNet50 previously trained in ImageNet. \n",
        "\n",
        "Sections and code are ordered in a way that should be easy to follow, if you have doubts or comments please do not hesitate in reaching me by opening an issue in my ml-journey repository: https://github.com/lddm/ml-journey  \n",
        "\n",
        "I use this notebook for both training and applying the classifier for the challenge. The latest state of the notebook in github may not have all cells' outputs. If you have doubts about some output you can always try running the notebook end-to-end on your own or ask me, I would be happy to help.\n",
        "\n",
        "## Summary\n",
        "The classifier trained with this notebook achieved a score of `0.86567` in the challenge. This is a good performance considering this is the first solution I implemented for the challenge and there're several things that can be improved. One of the main factors to improve is the parameters and strategy using in training the deep neural network. By looking at the loss evolution it seems like the training converged to a point which is a local minimum in the loss surface in a few epochs. After reaching this point, the loss wasn't able to move forward past this point to a better solution.  \n",
        "Next steps in this challenge will involve adjusting the learning rate and how it's updated as training evolves to try converging to a better solution.  \n",
        "\n",
        "\n",
        "![image.png](data:image/png;base64,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)\n"
      ]
    },
    {
      "cell_type": "code",
      "metadata": {
        "id": "Oohq-EzU3X_6"
      },
      "source": [
        "# License: BSD\n",
        "# Author: Sasank Chilamkurthy\n",
        "\n",
        "%matplotlib inline\n",
        "\n",
        "# Imports\n",
        "import os\n",
        "import time\n",
        "import copy\n",
        "import cv2\n",
        "import torch\n",
        "import torchvision\n",
        "\n",
        "import pandas as pd\n",
        "import torch.nn as nn\n",
        "import numpy as np\n",
        "import matplotlib.pyplot as plt\n",
        "import torch.optim as optim\n",
        "\n",
        "from PIL import Image\n",
        "from tqdm import tqdm\n",
        "from google.colab import drive, files\n",
        "from sklearn import metrics\n",
        "\n",
        "from sklearn.preprocessing import MultiLabelBinarizer\n",
        "from torch.optim import lr_scheduler\n",
        "from torchvision import datasets, models, transforms\n",
        "from torch.utils.data.dataset import Dataset\n",
        "from torch.utils.data import DataLoader\n",
        "\n",
        "# Constants\n",
        "TRAIN_DIR = 'train/train-jpg'\n",
        "TEST_DIR = 'test/test-jpg'\n",
        "ROOT_PATH = '/content/gdrive/MyDrive/planet_amazon'\n",
        "MODEL_PATH = os.path.join(ROOT_PATH, 'planet_challenge_model.tar')\n",
        "\n",
        "plt.ion()   # interactive mode\n",
        "device = torch.device(\"cuda:0\" if torch.cuda.is_available() else \"cpu\")"
      ],
      "execution_count": null,
      "outputs": []
    },
    {
      "cell_type": "code",
      "metadata": {
        "colab": {
          "base_uri": "https://localhost:8080/"
        },
        "id": "Rho1txJ5GFMX",
        "outputId": "63c7a00d-885d-4a77-c10f-bc82cd66c27d"
      },
      "source": [
        "drive.mount('/content/gdrive')\n",
        "os.chdir(ROOT_PATH)"
      ],
      "execution_count": null,
      "outputs": [
        {
          "output_type": "stream",
          "text": [
            "Mounted at /content/gdrive\n"
          ],
          "name": "stdout"
        }
      ]
    },
    {
      "cell_type": "markdown",
      "metadata": {
        "id": "Dd1GMPa6HI3l"
      },
      "source": [
        "### Uncompress data\n",
        "Only need to run once to extract the compressed archives into folders suitable for training and classification."
      ]
    },
    {
      "cell_type": "code",
      "metadata": {
        "id": "GDiwd_k1EUvN"
      },
      "source": [
        "# root_path = '/content/gdrive/MyDrive/planet_amazon'\n",
        "# os.getcwd()\n",
        "# os.chdir(root_path)  #change dir\n",
        "# !mkdir train  #create a directory named train/\n",
        "# !mkdir test  #create a directory named test/\n",
        "# !tar -xvf  'train-jpg.tar' -C 'train'\n",
        "# !tar -xvf  'test-jpg-all-images.tar.gz' -C 'test'"
      ],
      "execution_count": null,
      "outputs": []
    },
    {
      "cell_type": "markdown",
      "metadata": {
        "id": "autVzv_Il-E9"
      },
      "source": [
        "# Auxiliary functions"
      ]
    },
    {
      "cell_type": "code",
      "metadata": {
        "id": "-vPUakAO9iDc"
      },
      "source": [
        "def get_items(df):\n",
        "    return df\n",
        "    # Grab subset of items\n",
        "    # return df.sample(n=64*30, random_state=891237)\n",
        "\n",
        "def get_x(df_row):\n",
        "    img_name = df_row['image_name']\n",
        "    img_path = os.path.join(TRAIN_DIR, f'{img_name}.jpg')\n",
        "    return img_path\n",
        "\n",
        "def get_y(df_row):\n",
        "    return df_row['tags'].split(' ')\n",
        "\n",
        "def imshow(inp, fig_size=4, title=None):\n",
        "    \"\"\"Imshow for Tensor.\"\"\"\n",
        "    inp = inp.numpy().transpose((1, 2, 0))\n",
        "    mean = np.array([0.485, 0.456, 0.406])\n",
        "    std = np.array([0.229, 0.224, 0.225])\n",
        "    inp = std * inp + mean\n",
        "    inp = np.clip(inp, 0, 1)\n",
        "\n",
        "    fig, ax = plt.subplots(figsize=(fig_size, fig_size))\n",
        "    ax.imshow(inp)\n",
        "\n",
        "    if title is not None:\n",
        "        plt.title(title)\n",
        "    plt.pause(0.001)  # pause a bit so that plots are updated\n",
        "\n",
        "\n",
        "def initialize_resnet(num_classes, use_pretrained=True):\n",
        "    model = models.resnet50(pretrained=use_pretrained)\n",
        "    # Adjust last fully connected layer to number of classes in the PlanetAmazonChallenge\n",
        "    num_ftrs = model.fc.in_features\n",
        "    model.fc = nn.Linear(num_ftrs, num_classes)\n",
        "    return model\n",
        "\n",
        "# Based on https://www.kaggle.com/igormq/f-beta-score-for-pytorch\n",
        "def f2_score(y_true, y_pred, threshold=0.5):\n",
        "    return fbeta_score(y_true, y_pred, 2, threshold)\n",
        "\n",
        "\n",
        "def fbeta_score(y_true, y_pred, beta, threshold, eps=1e-9):\n",
        "    beta2 = beta**2\n",
        "\n",
        "    y_pred = torch.ge(y_pred.float(), threshold).float()\n",
        "    y_true = y_true.float()\n",
        "\n",
        "    true_positive = (y_pred * y_true).sum(dim=1)\n",
        "    precision = true_positive.div(y_pred.sum(dim=1).add(eps))\n",
        "    recall = true_positive.div(y_true.sum(dim=1).add(eps))\n",
        "\n",
        "    return torch.mean(\n",
        "        (precision*recall).\n",
        "        div(precision.mul(beta2) + recall + eps).\n",
        "        mul(1 + beta2))\n",
        "\n",
        "# Based on https://gist.github.com/andrewjong/6b02ff237533b3b2c554701fb53d5c4d\n",
        "# Allows obtaining image paths when iterating by batches using the DataLoader\n",
        "# Code is modified to only return the file name, without path and without \n",
        "# extension, thus generating the output format expected by the Kaggle \n",
        "# competition\n",
        "class ImageFolderWithPaths(datasets.ImageFolder):\n",
        "    \"\"\"Custom dataset that includes image file paths. Extends\n",
        "    torchvision.datasets.ImageFolder\n",
        "    \"\"\"\n",
        "\n",
        "    # override the __getitem__ method. this is the method that dataloader calls\n",
        "    def __getitem__(self, index):\n",
        "        # this is what ImageFolder normally returns \n",
        "        original_tuple = super(ImageFolderWithPaths, self).__getitem__(index)\n",
        "        # the image file path\n",
        "        img_path = self.imgs[index][0]\n",
        "        img_name = os.path.splitext(os.path.basename(img_path))[0]\n",
        "        # make a new tuple that includes original and the path\n",
        "        tuple_with_path = (original_tuple + (img_name,))\n",
        "        return tuple_with_path"
      ],
      "execution_count": null,
      "outputs": []
    },
    {
      "cell_type": "markdown",
      "metadata": {
        "id": "dFZ3cE0fjjn5"
      },
      "source": [
        "# Train the network"
      ]
    },
    {
      "cell_type": "markdown",
      "metadata": {
        "collapsed": false,
        "id": "ckDkdqeHg4rF"
      },
      "source": [
        "### Test access to training data"
      ]
    },
    {
      "cell_type": "code",
      "metadata": {
        "colab": {
          "base_uri": "https://localhost:8080/"
        },
        "id": "o66-AH6Cg4rF",
        "outputId": "3ebcfc45-bb13-4e86-8108-f84935f4ad33"
      },
      "source": [
        "train_df = pd.read_csv('train_v2.csv')\n",
        "train_img_path = get_x(train_df.loc[0])\n",
        "print(train_img_path)\n",
        "tags = get_y(train_df.loc[0])\n",
        "print(tags)\n",
        "\n",
        "train_img = cv2.imread(train_img_path)\n",
        "train_img.shape"
      ],
      "execution_count": null,
      "outputs": [
        {
          "output_type": "stream",
          "text": [
            "train/train-jpg/train_0.jpg\n",
            "['haze', 'primary']\n"
          ],
          "name": "stdout"
        },
        {
          "output_type": "execute_result",
          "data": {
            "text/plain": [
              "(256, 256, 3)"
            ]
          },
          "metadata": {
            "tags": []
          },
          "execution_count": 7
        }
      ]
    },
    {
      "cell_type": "markdown",
      "metadata": {
        "collapsed": false,
        "id": "7wvxE9K1g4rG"
      },
      "source": [
        "### Load training data "
      ]
    },
    {
      "cell_type": "markdown",
      "metadata": {
        "id": "7ywJG9yeZ2kU"
      },
      "source": [
        "### Handle dataset particular structure"
      ]
    },
    {
      "cell_type": "markdown",
      "metadata": {
        "id": "7hWGgYVU9uoF"
      },
      "source": [
        "The [torchvision.datasets](https://pytorch.org/vision/0.8/datasets.html#torchvision-datasets) class expects a specific structure for the data and their corresponding labels, e.g: ![Screenshot from 2021-02-27 16-32-20.png](data:image/png;base64,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)\n",
        "\n",
        "This is not very convenient for handling how data is provided in the Kaggle _Understanding the Amazon from Space_ challenge. This is easily fixable by implementing a custom sub-class of the torch Dataset class. Code below is based on https://www.kaggle.com/mratsim/starting-kit-for-pytorch-deep-learning#Loading-the-data---first-part---DataSet  \n",
        "\n",
        "The implemented `KaggleAmazonDataset` makes use of [sklearn.preprocessing.MultiLabelBinarizer](https://scikit-learn.org/stable/modules/generated/sklearn.preprocessing.MultiLabelBinarizer.html#sklearn-preprocessing-multilabelbinarizer) to encode the categorical labels in a convenient numerical format for the training."
      ]
    },
    {
      "cell_type": "code",
      "metadata": {
        "id": "7b61FspM-_Ov"
      },
      "source": [
        "class KaggleAmazonDataset(Dataset):\n",
        "    \"\"\"Dataset wrapping images and target labels for Kaggle - Planet Amazon from Space competition.\n",
        "\n",
        "    Arguments:\n",
        "        A CSV file path\n",
        "        Path to image folder\n",
        "        Extension of images\n",
        "        Transform (optional) object containing transformations to apply on imagery.\n",
        "    \"\"\"\n",
        "\n",
        "    def __init__(self, csv_path, img_path, img_ext, transform=None, number_samples=None):\n",
        "    \n",
        "        self.tmp_df = pd.read_csv(csv_path)\n",
        "        \n",
        "        self.mlb = MultiLabelBinarizer()\n",
        "        self.img_path = img_path\n",
        "        self.img_ext = img_ext\n",
        "        self.transform = transform\n",
        "        \n",
        "        self._check_corrupt_files()\n",
        "\n",
        "        image_names = self.tmp_df['image_name']\n",
        "        tags = self.tmp_df['tags']\n",
        "        if number_samples:\n",
        "          image_names = image_names[:number_samples]\n",
        "          tags = tags[:number_samples]\n",
        "          self.dataset_size = number_samples\n",
        "        else:\n",
        "          self.dataset_size = len(image_names)\n",
        "\n",
        "        self.X_train = image_names\n",
        "        # self.y_train is a sparse-matrix of size num_samples x num_classes where an element [i,j] equals 1 \n",
        "        # iff the sample with index 'i' correspond to class 'j'\n",
        "        self.y_train = self.mlb.fit_transform(tags.str.split()).astype(np.float32)\n",
        "\n",
        "    def __getitem__(self, index):\n",
        "        img = Image.open(os.path.join(self.img_path, self.X_train[index] + \n",
        "                                      self.img_ext))\n",
        "        img = img.convert('RGB')\n",
        "        if self.transform is not None:\n",
        "          img = self.transform(img)\n",
        "\n",
        "        label = torch.from_numpy(self.y_train[index])\n",
        "        return img, label\n",
        "    \n",
        "    def _check_corrupt_files(self):\n",
        "        # check that all images listed in the train.csv are available on the training folder\n",
        "        assert self.tmp_df['image_name'].apply(lambda x: os.path.isfile(os.path.join(\n",
        "                self.img_path, x + self.img_ext))).all(), \\\n",
        "\"Some images referenced in the CSV file were not found\"\n",
        "        \n",
        "        # some files available in the folder are corrupted causing an PIL.UnidentifiedImageError\n",
        "        for image_name in self.tmp_df['image_name']:\n",
        "          file_size = os.stat(os.path.join(\n",
        "              self.img_path, image_name + self.img_ext)).st_size\n",
        "          if file_size == 0:\n",
        "            raise(OSError('File {} is corrupt'.format(image_name)))\n",
        "        \n",
        "    \n",
        "    def decode_binary_label(self, array):\n",
        "      return self.mlb.inverse_transform(array)\n",
        "\n",
        "    def __len__(self):\n",
        "        return len(self.X_train.index)"
      ],
      "execution_count": null,
      "outputs": []
    },
    {
      "cell_type": "code",
      "metadata": {
        "colab": {
          "base_uri": "https://localhost:8080/"
        },
        "id": "_wAZz8rDg4rW",
        "outputId": "96258eb3-9636-4c46-d168-073cc18240b0"
      },
      "source": [
        "print('Train dataset size: ', len([name for name in os.listdir(TRAIN_DIR) if os.path.isfile(os.path.join(TRAIN_DIR, name))]))\n",
        "# the parameters used here are based on https://pytorch.org/tutorials/beginner/transfer_learning_tutorial.html\n",
        "data_transforms = transforms.Compose([transforms.CenterCrop(224),\n",
        "                                      transforms.ToTensor(),\n",
        "                                      # Normalization mean and std. dev. \n",
        "                                      # factors are taken from ImageNet\n",
        "                                      transforms.Normalize(\n",
        "                                          [0.485, 0.456, 0.406],\n",
        "                                          [0.229, 0.224, 0.225])])\n",
        "\n",
        "train_dataset = KaggleAmazonDataset('train_v2.csv', TRAIN_DIR, '.jpg', \n",
        "                                    data_transforms)\n",
        "\n",
        "train_loader = DataLoader(train_dataset,\n",
        "                          batch_size=100,\n",
        "                          shuffle=True,\n",
        "                          num_workers=1, # 1 for CUDA\n",
        "                          pin_memory=True # CUDA only\n",
        "                         )\n",
        "\n",
        "dataset_sizes = {'train': train_dataset.dataset_size}"
      ],
      "execution_count": null,
      "outputs": [
        {
          "output_type": "stream",
          "text": [
            "Train dataset size:  40479\n"
          ],
          "name": "stdout"
        }
      ]
    },
    {
      "cell_type": "markdown",
      "metadata": {
        "collapsed": false,
        "id": "JbAhTMDdg4rW"
      },
      "source": [
        "### Test train_loader and classes decoding"
      ]
    },
    {
      "cell_type": "code",
      "metadata": {
        "id": "D_iTuaHHJKpN"
      },
      "source": [
        "# Get a batch of training data\n",
        "inputs, classes = next(iter(train_loader))\n",
        "\n",
        "# Make a grid from batch\n",
        "out = torchvision.utils.make_grid(inputs, nrow=4)\n",
        "\n",
        "imshow(out, fig_size=20)\n",
        "\n",
        "train_dataset.decode_binary_label(classes)"
      ],
      "execution_count": null,
      "outputs": []
    },
    {
      "cell_type": "markdown",
      "metadata": {
        "id": "FETH6Ok56ad-"
      },
      "source": [
        "### Finetunning the network"
      ]
    },
    {
      "cell_type": "code",
      "metadata": {
        "id": "Eq_MUszb6NHB"
      },
      "source": [
        "def train_model(model, criterion, optimizer, scheduler, last_epoch=0, \n",
        "                num_epochs=25, save_model=False, threshold=0, epoch_loss_evolution=[],\n",
        "                epoch_acc_evolution=[]):\n",
        "    since = time.time()\n",
        "    best_model_wts = copy.deepcopy(model.state_dict())\n",
        "    if epoch_acc_evolution:\n",
        "      best_acc = max(epoch_acc_evolution)\n",
        "    else:\n",
        "      best_acc = 0.0\n",
        "\n",
        "    for epoch in range(last_epoch, num_epochs):\n",
        "        print('Epoch {}/{}'.format(epoch, num_epochs - 1))\n",
        "        print('-' * 10)\n",
        "\n",
        "        # Each epoch has a training and validation phase\n",
        "        for phase in ['train']:\n",
        "            if phase == 'train':\n",
        "                model.train()  # Set model to training mode\n",
        "            else:\n",
        "                model.eval()   # Set model to evaluate mode\n",
        "\n",
        "            running_loss = 0.0\n",
        "            running_corrects = 0\n",
        "\n",
        "            # Iterate over data.\n",
        "            for inputs, labels in train_loader:\n",
        "                inputs = inputs.to(device)\n",
        "                labels = labels.to(device)\n",
        "\n",
        "                # zero the parameter gradients\n",
        "                optimizer.zero_grad()\n",
        "\n",
        "                # forward\n",
        "                # track history if only in train\n",
        "                with torch.set_grad_enabled(phase == 'train'):\n",
        "                    outputs = model(inputs)\n",
        "                    preds = outputs > threshold\n",
        "                    loss = criterion(outputs, labels)\n",
        "\n",
        "                    # backward + optimize only if in training phase\n",
        "                    if phase == 'train':\n",
        "                        loss.backward()\n",
        "                        optimizer.step()\n",
        "\n",
        "                # statistics\n",
        "                running_loss += loss.item() * inputs.size(0)\n",
        "                running_corrects += torch.sum(preds == labels.data)\n",
        "\n",
        "                # print('f2beta score: ', fbeta_score(labels.data, preds, 2, 0.2))\n",
        "            if phase == 'train':\n",
        "                scheduler.step()\n",
        "\n",
        "            epoch_loss_evolution.append(running_loss / dataset_sizes[phase])\n",
        "            \n",
        "            epoch_acc = running_corrects.double() / dataset_sizes[phase]\n",
        "            epoch_acc_evolution.append(epoch_acc)\n",
        "\n",
        "            print('{} Loss: {:.4f} Acc: {:.4f}'.format(\n",
        "                phase, epoch_loss_evolution[-1], epoch_acc))\n",
        "\n",
        "            # deep copy the model\n",
        "            if epoch_acc > best_acc:\n",
        "                best_acc = epoch_acc\n",
        "                best_model_wts = copy.deepcopy(model.state_dict())\n",
        "                if save_model:\n",
        "                  torch.save({\n",
        "                      'epoch': epoch,\n",
        "                      'model_state_dict': model.state_dict(),\n",
        "                      'optimizer_state_dict': optimizer.state_dict(),\n",
        "                      'loss_evolution': epoch_loss_evolution,\n",
        "                      'accuracy_evolution': epoch_acc_evolution\n",
        "                      }, MODEL_PATH)\n",
        "\n",
        "        print()\n",
        "\n",
        "    time_elapsed = time.time() - since\n",
        "    print('Training complete in {:.0f}m {:.0f}s'.format(\n",
        "        time_elapsed // 60, time_elapsed % 60))\n",
        "    print('Best train Acc: {:4f}'.format(best_acc))\n",
        "\n",
        "    # load best model weights\n",
        "    model.load_state_dict(best_model_wts)\n",
        "    return model"
      ],
      "execution_count": null,
      "outputs": []
    },
    {
      "cell_type": "code",
      "metadata": {
        "id": "N_QAzlx56NHF",
        "colab": {
          "base_uri": "https://localhost:8080/",
          "height": 105,
          "referenced_widgets": [
            "cbb61b8eae614caca4b452022232a7c1",
            "bb916ce403f04d8cb47442aa9ff5ea92",
            "2536995be11a4b289d936406136db359",
            "ccc743a3fd284ef5bb2ce02d635132be",
            "78be5718b4924ae7b4c3420613f9de67",
            "d219383802c64bf5bc7b7851b705286f",
            "52a776c46e794a62bce565d4601c1418",
            "113216cfc60b41b092aaf0ccebbc904f"
          ]
        },
        "outputId": "8d620c05-0699-4c69-f254-ab9cdc60f616"
      },
      "source": [
        "model = initialize_resnet(len(train_dataset.mlb.classes_), use_pretrained=True)\n",
        "model = model.to(device)\n",
        "\n",
        "# criterion = nn.CrossEntropyLoss()\n",
        "# Loss selected for multi-label classification problem based on https://discuss.pytorch.org/t/multi-label-classification-in-pytorch/905/45\n",
        "criterion = nn.BCEWithLogitsLoss()\n",
        "\n",
        "# Observe that all parameters are being optimized\n",
        "# optimizer = torch.optim.Adam(model.parameters(), lr=1e-3, weight_decay=5e-7)\n",
        "optimizer = optim.SGD(model.parameters(), lr=1e-3, momentum=0.9)\n",
        "\n",
        "# Decay LR by a factor of 0.1 every 8 epochs\n",
        "exp_lr_scheduler = lr_scheduler.StepLR(optimizer, step_size=8, gamma=0.1)"
      ],
      "execution_count": null,
      "outputs": [
        {
          "output_type": "stream",
          "text": [
            "Downloading: \"https://download.pytorch.org/models/resnet50-19c8e357.pth\" to /root/.cache/torch/hub/checkpoints/resnet50-19c8e357.pth\n"
          ],
          "name": "stderr"
        },
        {
          "output_type": "display_data",
          "data": {
            "application/vnd.jupyter.widget-view+json": {
              "model_id": "cbb61b8eae614caca4b452022232a7c1",
              "version_minor": 0,
              "version_major": 2
            },
            "text/plain": [
              "HBox(children=(FloatProgress(value=0.0, max=102502400.0), HTML(value='')))"
            ]
          },
          "metadata": {
            "tags": []
          }
        },
        {
          "output_type": "stream",
          "text": [
            "\n"
          ],
          "name": "stdout"
        }
      ]
    },
    {
      "cell_type": "code",
      "metadata": {
        "id": "Ao9TtWOl2LfR"
      },
      "source": [
        "load_model = True\n",
        "if load_model:\n",
        "  checkpoint = torch.load(MODEL_PATH)\n",
        "\n",
        "  model.load_state_dict(checkpoint['model_state_dict'])\n",
        "  optimizer.load_state_dict(checkpoint['optimizer_state_dict'])\n",
        "  last_epoch = checkpoint['epoch']\n",
        "  epoch_loss_evolution = checkpoint['loss_evolution']\n",
        "  epoch_acc_evolution = checkpoint['accuracy_evolution']"
      ],
      "execution_count": null,
      "outputs": []
    },
    {
      "cell_type": "code",
      "metadata": {
        "id": "9QgvuSpY-R9C",
        "colab": {
          "base_uri": "https://localhost:8080/",
          "height": 313
        },
        "outputId": "2f65da7b-c734-4d87-89d9-11aeaf0d7e45"
      },
      "source": [
        "plt.plot(epoch_loss_evolution)\n",
        "plt.title('Training loss')\n",
        "plt.xlabel('Epoch')\n",
        "plt.ylabel('Loss')\n",
        "plt.grid()\n",
        "\n",
        "print('Last loss: {}'.format(epoch_loss_evolution[-1]))"
      ],
      "execution_count": null,
      "outputs": [
        {
          "output_type": "stream",
          "text": [
            "Last loss: 0.10322811791751574\n"
          ],
          "name": "stdout"
        },
        {
          "output_type": "display_data",
          "data": {
            "image/png": "[encoded data removed]",
            "text/plain": [
              "<Figure size 432x288 with 1 Axes>"
            ]
          },
          "metadata": {
            "tags": [],
            "needs_background": "light"
          }
        }
      ]
    },
    {
      "cell_type": "code",
      "metadata": {
        "id": "y1SZzsA27a7k"
      },
      "source": [
        "model = train_model(model, criterion, optimizer, exp_lr_scheduler, \n",
        "                    last_epoch=last_epoch, num_epochs=40, save_model=True, \n",
        "                    threshold=0.2, epoch_loss_evolution=epoch_loss_evolution, \n",
        "                    epoch_acc_evolution = epoch_acc_evolution)"
      ],
      "execution_count": null,
      "outputs": []
    },
    {
      "cell_type": "markdown",
      "metadata": {
        "id": "8C4jN8P0AKhu"
      },
      "source": [
        "# Classify test images"
      ]
    },
    {
      "cell_type": "markdown",
      "metadata": {
        "id": "RA1qikcakkjH"
      },
      "source": [
        "## Load model"
      ]
    },
    {
      "cell_type": "code",
      "metadata": {
        "id": "WpkYvtRbFXp4"
      },
      "source": [
        "model = initialize_resnet(len(train_dataset.mlb.classes_))\n",
        "model = model.to(device)\n",
        "\n",
        "optimizer = torch.optim.Adam(model.parameters())\n",
        "\n",
        "checkpoint = torch.load(MODEL_PATH)\n",
        "model.load_state_dict(checkpoint['model_state_dict'])\n",
        "optimizer.load_state_dict(checkpoint['optimizer_state_dict'])\n",
        "last_epoch = checkpoint['epoch']\n",
        "epoch_loss_evolution = checkpoint['loss_evolution']"
      ],
      "execution_count": null,
      "outputs": []
    },
    {
      "cell_type": "markdown",
      "metadata": {
        "id": "vj4bNrUvkv7P"
      },
      "source": [
        "## Load and classify by batch"
      ]
    },
    {
      "cell_type": "code",
      "metadata": {
        "id": "naJrhd_iF4Ol",
        "colab": {
          "base_uri": "https://localhost:8080/"
        },
        "outputId": "58b8193b-84d7-4d0b-df21-649da0ab28a5"
      },
      "source": [
        "print('Test dataset size: ', len([name for name in os.listdir(TEST_DIR) if os.path.isfile(os.path.join(TEST_DIR, name))]))\n",
        "test_transforms = transforms.Compose([\n",
        "        transforms.Resize(256),\n",
        "        transforms.CenterCrop(224),\n",
        "        transforms.ToTensor(),\n",
        "        transforms.Normalize([0.485, 0.456, 0.406], [0.229, 0.224, 0.225])\n",
        "    ])\n",
        "\n",
        "dataset = {'test' : ImageFolderWithPaths('test', test_transforms)}\n",
        "dataloader = {'test': torch.utils.data.DataLoader(dataset['test'], batch_size = 250, shuffle=False, num_workers=2)}"
      ],
      "execution_count": null,
      "outputs": [
        {
          "output_type": "stream",
          "text": [
            "Test dataset size:  61191\n"
          ],
          "name": "stdout"
        }
      ]
    },
    {
      "cell_type": "code",
      "metadata": {
        "colab": {
          "base_uri": "https://localhost:8080/"
        },
        "id": "LJCggXb9tMwt",
        "outputId": "e6210653-a1f9-4f76-a44b-b94afaa81bc8"
      },
      "source": [
        "print(len(dataloader['test'].dataset)) \n"
      ],
      "execution_count": null,
      "outputs": [
        {
          "output_type": "stream",
          "text": [
            "61191\n"
          ],
          "name": "stdout"
        }
      ]
    },
    {
      "cell_type": "code",
      "metadata": {
        "id": "8derxAyA6NHE"
      },
      "source": [
        "def classify(model, dataloader, multi_label_binarizer, show_images=False, threshold=0):\n",
        "    was_training = model.training\n",
        "    model.eval()\n",
        "    results_df = pd.DataFrame(columns=['image_name','tags'])\n",
        "    with tqdm(dataloader, unit=\"batch\") as classification_batch:\n",
        "      for inputs, _, img_names in classification_batch:\n",
        "        with torch.no_grad():\n",
        "          inputs = inputs.to(device)\n",
        "          outputs = model(inputs)\n",
        "          preds = outputs > threshold\n",
        "          # recover categorical labels from binary predictions\n",
        "          labels = multi_label_binarizer.inverse_transform(preds.cpu())\n",
        "\n",
        "          #labels is a list of size classification batch where each element \n",
        "          # is a tuple with the labels corresponding to each image. The \n",
        "          # submission expects the labels of each image to be outputted as a \n",
        "          # space separated list\n",
        "          output_labels = [' '.join(labels) for labels in labels]\n",
        "          \n",
        "          results_df = results_df.append(pd.DataFrame({\n",
        "              'image_name': img_names,\n",
        "              'tags': output_labels\n",
        "          }))\n",
        "\n",
        "          if show_images:\n",
        "            fig = plt.figure(figsize=(10, 10))\n",
        "            print('Labels: ', labels)\n",
        "            imshow(inputs.squeeze(0).cpu().data)\n",
        "    \n",
        "    model.train(mode=was_training)\n",
        "    return results_df"
      ],
      "execution_count": null,
      "outputs": []
    },
    {
      "cell_type": "code",
      "metadata": {
        "id": "hcM6duuRk4sv",
        "colab": {
          "base_uri": "https://localhost:8080/"
        },
        "outputId": "dcb69473-f257-40a2-bebf-8b1df71b7220"
      },
      "source": [
        "results_df = classify(model, dataloader['test'], train_dataset.mlb, show_images=False, threshold=0.2)"
      ],
      "execution_count": null,
      "outputs": [
        {
          "output_type": "stream",
          "text": [
            "100%|██████████| 245/245 [2:27:31<00:00, 36.13s/batch]\n"
          ],
          "name": "stderr"
        }
      ]
    },
    {
      "cell_type": "code",
      "metadata": {
        "id": "HIbvnIsdWF_o"
      },
      "source": [
        ""
      ],
      "execution_count": null,
      "outputs": []
    },
    {
      "cell_type": "code",
      "metadata": {
        "id": "B-ym62DaZwQS"
      },
      "source": [
        "results_df.to_csv('submission.csv', index=False)"
      ],
      "execution_count": null,
      "outputs": []
    },
    {
      "cell_type": "markdown",
      "metadata": {
        "id": "sp2cRlpiTjRI"
      },
      "source": [
        "# Submitting results to Kaggle competition\n",
        "* Instructions on how to use Kaggle API from Google Colab environment can be found [here](https://colab.research.google.com/github/corrieann/kaggle/blob/master/kaggle_api_in_colab.ipynb)\n",
        "* Details on the format of the output that should be submitted as well as the Kaggle API command that should be used can be found [here](https://www.kaggle.com/c/planet-understanding-the-amazon-from-space/submit)\n"
      ]
    },
    {
      "cell_type": "code",
      "metadata": {
        "id": "QawwT_TaKVrO"
      },
      "source": [
        "results_df = pd.read_csv('submission.csv')"
      ],
      "execution_count": null,
      "outputs": []
    },
    {
      "cell_type": "code",
      "metadata": {
        "colab": {
          "base_uri": "https://localhost:8080/",
          "height": 407
        },
        "id": "n-IyaqU-Wji3",
        "outputId": "f86d0790-bb04-4004-a08c-524ab29b196f"
      },
      "source": [
        "results_df"
      ],
      "execution_count": null,
      "outputs": [
        {
          "output_type": "execute_result",
          "data": {
            "text/html": [
              "<div>\n",
              "<style scoped>\n",
              "    .dataframe tbody tr th:only-of-type {\n",
              "        vertical-align: middle;\n",
              "    }\n",
              "\n",
              "    .dataframe tbody tr th {\n",
              "        vertical-align: top;\n",
              "    }\n",
              "\n",
              "    .dataframe thead th {\n",
              "        text-align: right;\n",
              "    }\n",
              "</style>\n",
              "<table border=\"1\" class=\"dataframe\">\n",
              "  <thead>\n",
              "    <tr style=\"text-align: right;\">\n",
              "      <th></th>\n",
              "      <th>image_name</th>\n",
              "      <th>tags</th>\n",
              "    </tr>\n",
              "  </thead>\n",
              "  <tbody>\n",
              "    <tr>\n",
              "      <th>0</th>\n",
              "      <td>file_0</td>\n",
              "      <td>clear primary</td>\n",
              "    </tr>\n",
              "    <tr>\n",
              "      <th>1</th>\n",
              "      <td>file_1</td>\n",
              "      <td>agriculture partly_cloudy primary</td>\n",
              "    </tr>\n",
              "    <tr>\n",
              "      <th>2</th>\n",
              "      <td>file_10</td>\n",
              "      <td>primary</td>\n",
              "    </tr>\n",
              "    <tr>\n",
              "      <th>3</th>\n",
              "      <td>file_100</td>\n",
              "      <td>clear primary water</td>\n",
              "    </tr>\n",
              "    <tr>\n",
              "      <th>4</th>\n",
              "      <td>file_1000</td>\n",
              "      <td>clear primary</td>\n",
              "    </tr>\n",
              "    <tr>\n",
              "      <th>...</th>\n",
              "      <td>...</td>\n",
              "      <td>...</td>\n",
              "    </tr>\n",
              "    <tr>\n",
              "      <th>61186</th>\n",
              "      <td>test_9995</td>\n",
              "      <td>clear primary</td>\n",
              "    </tr>\n",
              "    <tr>\n",
              "      <th>61187</th>\n",
              "      <td>test_9996</td>\n",
              "      <td>partly_cloudy primary</td>\n",
              "    </tr>\n",
              "    <tr>\n",
              "      <th>61188</th>\n",
              "      <td>test_9997</td>\n",
              "      <td>agriculture partly_cloudy primary</td>\n",
              "    </tr>\n",
              "    <tr>\n",
              "      <th>61189</th>\n",
              "      <td>test_9998</td>\n",
              "      <td>clear primary</td>\n",
              "    </tr>\n",
              "    <tr>\n",
              "      <th>61190</th>\n",
              "      <td>test_9999</td>\n",
              "      <td>haze primary</td>\n",
              "    </tr>\n",
              "  </tbody>\n",
              "</table>\n",
              "<p>61191 rows × 2 columns</p>\n",
              "</div>"
            ],
            "text/plain": [
              "      image_name                               tags\n",
              "0         file_0                      clear primary\n",
              "1         file_1  agriculture partly_cloudy primary\n",
              "2        file_10                            primary\n",
              "3       file_100                clear primary water\n",
              "4      file_1000                      clear primary\n",
              "...          ...                                ...\n",
              "61186  test_9995                      clear primary\n",
              "61187  test_9996              partly_cloudy primary\n",
              "61188  test_9997  agriculture partly_cloudy primary\n",
              "61189  test_9998                      clear primary\n",
              "61190  test_9999                       haze primary\n",
              "\n",
              "[61191 rows x 2 columns]"
            ]
          },
          "metadata": {
            "tags": []
          },
          "execution_count": 5
        }
      ]
    },
    {
      "cell_type": "code",
      "metadata": {
        "id": "OppyMnCuWjzJ",
        "colab": {
          "base_uri": "https://localhost:8080/"
        },
        "outputId": "f31fe9d4-c69e-4253-b3ce-b0a9417265c9"
      },
      "source": [
        "!pip install kaggle"
      ],
      "execution_count": null,
      "outputs": [
        {
          "output_type": "stream",
          "text": [
            "Requirement already satisfied: kaggle in /usr/local/lib/python3.7/dist-packages (1.5.10)\n",
            "Requirement already satisfied: six>=1.10 in /usr/local/lib/python3.7/dist-packages (from kaggle) (1.15.0)\n",
            "Requirement already satisfied: requests in /usr/local/lib/python3.7/dist-packages (from kaggle) (2.23.0)\n",
            "Requirement already satisfied: certifi in /usr/local/lib/python3.7/dist-packages (from kaggle) (2020.12.5)\n",
            "Requirement already satisfied: tqdm in /usr/local/lib/python3.7/dist-packages (from kaggle) (4.41.1)\n",
            "Requirement already satisfied: python-dateutil in /usr/local/lib/python3.7/dist-packages (from kaggle) (2.8.1)\n",
            "Requirement already satisfied: urllib3 in /usr/local/lib/python3.7/dist-packages (from kaggle) (1.24.3)\n",
            "Requirement already satisfied: python-slugify in /usr/local/lib/python3.7/dist-packages (from kaggle) (4.0.1)\n",
            "Requirement already satisfied: chardet<4,>=3.0.2 in /usr/local/lib/python3.7/dist-packages (from requests->kaggle) (3.0.4)\n",
            "Requirement already satisfied: idna<3,>=2.5 in /usr/local/lib/python3.7/dist-packages (from requests->kaggle) (2.10)\n",
            "Requirement already satisfied: text-unidecode>=1.3 in /usr/local/lib/python3.7/dist-packages (from python-slugify->kaggle) (1.3)\n"
          ],
          "name": "stdout"
        }
      ]
    },
    {
      "cell_type": "code",
      "metadata": {
        "id": "0HtGf0HEXEa5",
        "colab": {
          "resources": {
            "http://localhost:8080/nbextensions/google.colab/files.js": {
              "data": "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",
              "ok": true,
              "headers": [
                [
                  "content-type",
                  "application/javascript"
                ]
              ],
              "status": 200,
              "status_text": ""
            }
          },
          "base_uri": "https://localhost:8080/",
          "height": 91
        },
        "outputId": "7a64eebc-cce7-44e2-9e2b-25b9c456d7dc"
      },
      "source": [
        "\n",
        "\n",
        "uploaded = files.upload()\n",
        "\n",
        "for fn in uploaded.keys():\n",
        "  print('User uploaded file \"{name}\" with length {length} bytes'.format(\n",
        "      name=fn, length=len(uploaded[fn])))\n",
        "  \n",
        "# Then move kaggle.json into the folder where the API expects to find it.\n",
        "!mkdir -p ~/.kaggle/ && mv kaggle.json ~/.kaggle/ && chmod 600 ~/.kaggle/kaggle.json"
      ],
      "execution_count": null,
      "outputs": [
        {
          "output_type": "display_data",
          "data": {
            "text/html": [
              "\n",
              "     <input type=\"file\" id=\"files-090a3c83-ca11-4cf9-92dc-f976480381cd\" name=\"files[]\" multiple disabled\n",
              "        style=\"border:none\" />\n",
              "     <output id=\"result-090a3c83-ca11-4cf9-92dc-f976480381cd\">\n",
              "      Upload widget is only available when the cell has been executed in the\n",
              "      current browser session. Please rerun this cell to enable.\n",
              "      </output>\n",
              "      <script src=\"/nbextensions/google.colab/files.js\"></script> "
            ],
            "text/plain": [
              "<IPython.core.display.HTML object>"
            ]
          },
          "metadata": {
            "tags": []
          }
        },
        {
          "output_type": "stream",
          "text": [
            "Saving kaggle.json to kaggle.json\n",
            "User uploaded file \"kaggle.json\" with length 69 bytes\n"
          ],
          "name": "stdout"
        }
      ]
    },
    {
      "cell_type": "code",
      "metadata": {
        "id": "21Sb9hfZUxtB",
        "colab": {
          "base_uri": "https://localhost:8080/"
        },
        "outputId": "a57819fc-b706-4cb7-9470-7116a45e9ac4"
      },
      "source": [
        "! kaggle competitions submit -c planet-understanding-the-amazon-from-space -f submission.csv -m \"First results using transfer learning with a ResNet50 trained in ImageNet\"\n"
      ],
      "execution_count": null,
      "outputs": [
        {
          "output_type": "stream",
          "text": [
            "Warning: Looks like you're using an outdated API Version, please consider updating (server 1.5.12 / client 1.5.4)\n",
            "100% 1.80M/1.80M [00:00<00:00, 3.67MB/s]\n",
            "Successfully submitted to Planet: Understanding the Amazon from Space"
          ],
          "name": "stdout"
        }
      ]
    }
  ]
}